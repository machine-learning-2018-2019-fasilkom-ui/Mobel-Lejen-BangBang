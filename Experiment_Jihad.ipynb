{
 "cells": [
  {
   "cell_type": "code",
   "execution_count": 1,
   "metadata": {},
   "outputs": [],
   "source": [
    "import pandas as pd"
   ]
  },
  {
   "cell_type": "code",
   "execution_count": 2,
   "metadata": {},
   "outputs": [],
   "source": [
    "df = pd.read_csv(\"lyrics.csv\").sample(50000)"
   ]
  },
  {
   "cell_type": "code",
   "execution_count": 3,
   "metadata": {},
   "outputs": [
    {
     "data": {
      "text/plain": [
       "50000"
      ]
     },
     "execution_count": 3,
     "metadata": {},
     "output_type": "execute_result"
    }
   ],
   "source": [
    "len(df)"
   ]
  },
  {
   "cell_type": "code",
   "execution_count": 4,
   "metadata": {},
   "outputs": [],
   "source": [
    "#Clean Dataset\n",
    "df = df.dropna()\n",
    "df = df.query(\"genre != 'Not Available'\")\n",
    "df = df.sample(frac=1).reset_index(drop=True)"
   ]
  },
  {
   "cell_type": "code",
   "execution_count": 5,
   "metadata": {},
   "outputs": [
    {
     "data": {
      "text/plain": [
       "33604"
      ]
     },
     "execution_count": 5,
     "metadata": {},
     "output_type": "execute_result"
    }
   ],
   "source": [
    "len(df)"
   ]
  },
  {
   "cell_type": "code",
   "execution_count": 6,
   "metadata": {},
   "outputs": [
    {
     "data": {
      "text/html": [
       "<div>\n",
       "<style scoped>\n",
       "    .dataframe tbody tr th:only-of-type {\n",
       "        vertical-align: middle;\n",
       "    }\n",
       "\n",
       "    .dataframe tbody tr th {\n",
       "        vertical-align: top;\n",
       "    }\n",
       "\n",
       "    .dataframe thead th {\n",
       "        text-align: right;\n",
       "    }\n",
       "</style>\n",
       "<table border=\"1\" class=\"dataframe\">\n",
       "  <thead>\n",
       "    <tr style=\"text-align: right;\">\n",
       "      <th></th>\n",
       "      <th>index</th>\n",
       "      <th>song</th>\n",
       "      <th>year</th>\n",
       "      <th>artist</th>\n",
       "      <th>genre</th>\n",
       "      <th>lyrics</th>\n",
       "    </tr>\n",
       "  </thead>\n",
       "  <tbody>\n",
       "    <tr>\n",
       "      <th>0</th>\n",
       "      <td>69423</td>\n",
       "      <td>some-kind-of-drug</td>\n",
       "      <td>2016</td>\n",
       "      <td>g-eazy</td>\n",
       "      <td>Hip-Hop</td>\n",
       "      <td>Wake up this morning, I'm shaking I can't be s...</td>\n",
       "    </tr>\n",
       "    <tr>\n",
       "      <th>1</th>\n",
       "      <td>179627</td>\n",
       "      <td>bottle-of-blues</td>\n",
       "      <td>2006</td>\n",
       "      <td>beck</td>\n",
       "      <td>Rock</td>\n",
       "      <td>I just found me a bottle of blues\\nSome strang...</td>\n",
       "    </tr>\n",
       "    <tr>\n",
       "      <th>2</th>\n",
       "      <td>202346</td>\n",
       "      <td>across-this-antheap-oranges-lemons-demo</td>\n",
       "      <td>2016</td>\n",
       "      <td>andy-partridge</td>\n",
       "      <td>Pop</td>\n",
       "      <td>Soldiers, workers, slaves and farmers,\\nNurses...</td>\n",
       "    </tr>\n",
       "    <tr>\n",
       "      <th>3</th>\n",
       "      <td>230292</td>\n",
       "      <td>stop-and-go</td>\n",
       "      <td>2015</td>\n",
       "      <td>cahoots</td>\n",
       "      <td>Other</td>\n",
       "      <td>Every time that I just stop believing\\nAnd any...</td>\n",
       "    </tr>\n",
       "    <tr>\n",
       "      <th>4</th>\n",
       "      <td>87175</td>\n",
       "      <td>lies</td>\n",
       "      <td>2007</td>\n",
       "      <td>carlene-carter</td>\n",
       "      <td>Country</td>\n",
       "      <td>Well, you told me that you love\\nWould be good...</td>\n",
       "    </tr>\n",
       "    <tr>\n",
       "      <th>5</th>\n",
       "      <td>111803</td>\n",
       "      <td>november-fight-song</td>\n",
       "      <td>2010</td>\n",
       "      <td>the-gay-blades</td>\n",
       "      <td>Rock</td>\n",
       "      <td>Smash my face with broken hammers,\\nSeperate m...</td>\n",
       "    </tr>\n",
       "    <tr>\n",
       "      <th>6</th>\n",
       "      <td>7852</td>\n",
       "      <td>dresser-drawer</td>\n",
       "      <td>2013</td>\n",
       "      <td>amos-lee</td>\n",
       "      <td>Folk</td>\n",
       "      <td>The phone rings\\nAnd I don't care who it is th...</td>\n",
       "    </tr>\n",
       "    <tr>\n",
       "      <th>7</th>\n",
       "      <td>97575</td>\n",
       "      <td>people</td>\n",
       "      <td>2006</td>\n",
       "      <td>adrian-belew</td>\n",
       "      <td>Rock</td>\n",
       "      <td>People fly\\nPeople flee\\nPeople clam and say \"...</td>\n",
       "    </tr>\n",
       "    <tr>\n",
       "      <th>8</th>\n",
       "      <td>560</td>\n",
       "      <td>benim-ayra-cala-aa-m</td>\n",
       "      <td>2015</td>\n",
       "      <td>cenk-r-lr-etin</td>\n",
       "      <td>Other</td>\n",
       "      <td>insanlar her Åeyi senden alabilsede\\nasla sen...</td>\n",
       "    </tr>\n",
       "    <tr>\n",
       "      <th>9</th>\n",
       "      <td>127114</td>\n",
       "      <td>i-wonder-if-heaven-got-a-ghetto</td>\n",
       "      <td>2006</td>\n",
       "      <td>2pac</td>\n",
       "      <td>Hip-Hop</td>\n",
       "      <td>I wonder if Heaven got a ghetto\\nI wonder if H...</td>\n",
       "    </tr>\n",
       "  </tbody>\n",
       "</table>\n",
       "</div>"
      ],
      "text/plain": [
       "    index                                     song  year          artist  \\\n",
       "0   69423                        some-kind-of-drug  2016          g-eazy   \n",
       "1  179627                          bottle-of-blues  2006            beck   \n",
       "2  202346  across-this-antheap-oranges-lemons-demo  2016  andy-partridge   \n",
       "3  230292                              stop-and-go  2015         cahoots   \n",
       "4   87175                                     lies  2007  carlene-carter   \n",
       "5  111803                      november-fight-song  2010  the-gay-blades   \n",
       "6    7852                           dresser-drawer  2013        amos-lee   \n",
       "7   97575                                   people  2006    adrian-belew   \n",
       "8     560                     benim-ayra-cala-aa-m  2015  cenk-r-lr-etin   \n",
       "9  127114          i-wonder-if-heaven-got-a-ghetto  2006            2pac   \n",
       "\n",
       "     genre                                             lyrics  \n",
       "0  Hip-Hop  Wake up this morning, I'm shaking I can't be s...  \n",
       "1     Rock  I just found me a bottle of blues\\nSome strang...  \n",
       "2      Pop  Soldiers, workers, slaves and farmers,\\nNurses...  \n",
       "3    Other  Every time that I just stop believing\\nAnd any...  \n",
       "4  Country  Well, you told me that you love\\nWould be good...  \n",
       "5     Rock  Smash my face with broken hammers,\\nSeperate m...  \n",
       "6     Folk  The phone rings\\nAnd I don't care who it is th...  \n",
       "7     Rock  People fly\\nPeople flee\\nPeople clam and say \"...  \n",
       "8    Other  insanlar her Åeyi senden alabilsede\\nasla sen...  \n",
       "9  Hip-Hop  I wonder if Heaven got a ghetto\\nI wonder if H...  "
      ]
     },
     "execution_count": 6,
     "metadata": {},
     "output_type": "execute_result"
    }
   ],
   "source": [
    "df.head(10)"
   ]
  },
  {
   "cell_type": "code",
   "execution_count": 7,
   "metadata": {},
   "outputs": [],
   "source": [
    "#Remove \\n to \" \"\n",
    "lyrics = []\n",
    "\n",
    "for i in df['lyrics'].values:\n",
    "    lyrics.append(i.replace(\"\\n\", \" \"))\n",
    "df['lyrics'] = lyrics"
   ]
  },
  {
   "cell_type": "code",
   "execution_count": 8,
   "metadata": {},
   "outputs": [
    {
     "data": {
      "text/html": [
       "<div>\n",
       "<style scoped>\n",
       "    .dataframe tbody tr th:only-of-type {\n",
       "        vertical-align: middle;\n",
       "    }\n",
       "\n",
       "    .dataframe tbody tr th {\n",
       "        vertical-align: top;\n",
       "    }\n",
       "\n",
       "    .dataframe thead th {\n",
       "        text-align: right;\n",
       "    }\n",
       "</style>\n",
       "<table border=\"1\" class=\"dataframe\">\n",
       "  <thead>\n",
       "    <tr style=\"text-align: right;\">\n",
       "      <th></th>\n",
       "      <th>index</th>\n",
       "      <th>song</th>\n",
       "      <th>year</th>\n",
       "      <th>artist</th>\n",
       "      <th>genre</th>\n",
       "      <th>lyrics</th>\n",
       "    </tr>\n",
       "  </thead>\n",
       "  <tbody>\n",
       "    <tr>\n",
       "      <th>0</th>\n",
       "      <td>69423</td>\n",
       "      <td>some-kind-of-drug</td>\n",
       "      <td>2016</td>\n",
       "      <td>g-eazy</td>\n",
       "      <td>Hip-Hop</td>\n",
       "      <td>Wake up this morning, I'm shaking I can't be s...</td>\n",
       "    </tr>\n",
       "    <tr>\n",
       "      <th>1</th>\n",
       "      <td>179627</td>\n",
       "      <td>bottle-of-blues</td>\n",
       "      <td>2006</td>\n",
       "      <td>beck</td>\n",
       "      <td>Rock</td>\n",
       "      <td>I just found me a bottle of blues Some strange...</td>\n",
       "    </tr>\n",
       "    <tr>\n",
       "      <th>2</th>\n",
       "      <td>202346</td>\n",
       "      <td>across-this-antheap-oranges-lemons-demo</td>\n",
       "      <td>2016</td>\n",
       "      <td>andy-partridge</td>\n",
       "      <td>Pop</td>\n",
       "      <td>Soldiers, workers, slaves and farmers, Nurses,...</td>\n",
       "    </tr>\n",
       "    <tr>\n",
       "      <th>3</th>\n",
       "      <td>230292</td>\n",
       "      <td>stop-and-go</td>\n",
       "      <td>2015</td>\n",
       "      <td>cahoots</td>\n",
       "      <td>Other</td>\n",
       "      <td>Every time that I just stop believing And any ...</td>\n",
       "    </tr>\n",
       "    <tr>\n",
       "      <th>4</th>\n",
       "      <td>87175</td>\n",
       "      <td>lies</td>\n",
       "      <td>2007</td>\n",
       "      <td>carlene-carter</td>\n",
       "      <td>Country</td>\n",
       "      <td>Well, you told me that you love Would be good ...</td>\n",
       "    </tr>\n",
       "    <tr>\n",
       "      <th>5</th>\n",
       "      <td>111803</td>\n",
       "      <td>november-fight-song</td>\n",
       "      <td>2010</td>\n",
       "      <td>the-gay-blades</td>\n",
       "      <td>Rock</td>\n",
       "      <td>Smash my face with broken hammers, Seperate my...</td>\n",
       "    </tr>\n",
       "    <tr>\n",
       "      <th>6</th>\n",
       "      <td>7852</td>\n",
       "      <td>dresser-drawer</td>\n",
       "      <td>2013</td>\n",
       "      <td>amos-lee</td>\n",
       "      <td>Folk</td>\n",
       "      <td>The phone rings And I don't care who it is tha...</td>\n",
       "    </tr>\n",
       "    <tr>\n",
       "      <th>7</th>\n",
       "      <td>97575</td>\n",
       "      <td>people</td>\n",
       "      <td>2006</td>\n",
       "      <td>adrian-belew</td>\n",
       "      <td>Rock</td>\n",
       "      <td>People fly People flee People clam and say \"It...</td>\n",
       "    </tr>\n",
       "    <tr>\n",
       "      <th>8</th>\n",
       "      <td>560</td>\n",
       "      <td>benim-ayra-cala-aa-m</td>\n",
       "      <td>2015</td>\n",
       "      <td>cenk-r-lr-etin</td>\n",
       "      <td>Other</td>\n",
       "      <td>insanlar her Åeyi senden alabilsede asla seni...</td>\n",
       "    </tr>\n",
       "    <tr>\n",
       "      <th>9</th>\n",
       "      <td>127114</td>\n",
       "      <td>i-wonder-if-heaven-got-a-ghetto</td>\n",
       "      <td>2006</td>\n",
       "      <td>2pac</td>\n",
       "      <td>Hip-Hop</td>\n",
       "      <td>I wonder if Heaven got a ghetto I wonder if He...</td>\n",
       "    </tr>\n",
       "  </tbody>\n",
       "</table>\n",
       "</div>"
      ],
      "text/plain": [
       "    index                                     song  year          artist  \\\n",
       "0   69423                        some-kind-of-drug  2016          g-eazy   \n",
       "1  179627                          bottle-of-blues  2006            beck   \n",
       "2  202346  across-this-antheap-oranges-lemons-demo  2016  andy-partridge   \n",
       "3  230292                              stop-and-go  2015         cahoots   \n",
       "4   87175                                     lies  2007  carlene-carter   \n",
       "5  111803                      november-fight-song  2010  the-gay-blades   \n",
       "6    7852                           dresser-drawer  2013        amos-lee   \n",
       "7   97575                                   people  2006    adrian-belew   \n",
       "8     560                     benim-ayra-cala-aa-m  2015  cenk-r-lr-etin   \n",
       "9  127114          i-wonder-if-heaven-got-a-ghetto  2006            2pac   \n",
       "\n",
       "     genre                                             lyrics  \n",
       "0  Hip-Hop  Wake up this morning, I'm shaking I can't be s...  \n",
       "1     Rock  I just found me a bottle of blues Some strange...  \n",
       "2      Pop  Soldiers, workers, slaves and farmers, Nurses,...  \n",
       "3    Other  Every time that I just stop believing And any ...  \n",
       "4  Country  Well, you told me that you love Would be good ...  \n",
       "5     Rock  Smash my face with broken hammers, Seperate my...  \n",
       "6     Folk  The phone rings And I don't care who it is tha...  \n",
       "7     Rock  People fly People flee People clam and say \"It...  \n",
       "8    Other  insanlar her Åeyi senden alabilsede asla seni...  \n",
       "9  Hip-Hop  I wonder if Heaven got a ghetto I wonder if He...  "
      ]
     },
     "execution_count": 8,
     "metadata": {},
     "output_type": "execute_result"
    }
   ],
   "source": [
    "df.head(10)"
   ]
  },
  {
   "cell_type": "code",
   "execution_count": 9,
   "metadata": {},
   "outputs": [
    {
     "name": "stdout",
     "output_type": "stream",
     "text": [
      "Genre List = ['Hip-Hop' 'Rock' 'Pop' 'Other' 'Country' 'Folk' 'Jazz' 'Electronic'\n",
      " 'Metal' 'R&B' 'Indie'].\n",
      " Len of Genre = 11\n"
     ]
    }
   ],
   "source": [
    "#List of Genre\n",
    "genre = (df['genre'].unique())\n",
    "sum_genre = len((df['genre'].unique()))\n",
    "print(\"Genre List = {}.\\n Len of Genre = {}\".format(genre, sum_genre))"
   ]
  },
  {
   "cell_type": "code",
   "execution_count": 10,
   "metadata": {},
   "outputs": [],
   "source": [
    "#Naive Bayes\n",
    "from sklearn.feature_extraction.text import CountVectorizer\n",
    "from sklearn.naive_bayes import MultinomialNB\n",
    "from sklearn.model_selection import train_test_split\n",
    "\n",
    "vectorizer = CountVectorizer()\n",
    "vector = vectorizer.fit_transform(df['lyrics'].values)"
   ]
  },
  {
   "cell_type": "code",
   "execution_count": 11,
   "metadata": {},
   "outputs": [
    {
     "data": {
      "text/plain": [
       "(33604, 126568)"
      ]
     },
     "execution_count": 11,
     "metadata": {},
     "output_type": "execute_result"
    }
   ],
   "source": [
    "vector.shape"
   ]
  },
  {
   "cell_type": "code",
   "execution_count": 12,
   "metadata": {},
   "outputs": [],
   "source": [
    "from sklearn.preprocessing import OneHotEncoder\n",
    "\n",
    "encoder = OneHotEncoder(handle_unknown='ignore')\n",
    "label = encoder.fit_transform(df[['genre']].values)"
   ]
  },
  {
   "cell_type": "code",
   "execution_count": 13,
   "metadata": {},
   "outputs": [],
   "source": [
    "features = []\n",
    "for data_label in df:\n",
    "    if data_label != 'genre':\n",
    "        features.append(label)\n",
    "\n",
    "X = vector\n",
    "y = df['genre']\n",
    "X_train, X_test, y_train, y_test = train_test_split(X, y, test_size=0.8)"
   ]
  },
  {
   "cell_type": "code",
   "execution_count": 14,
   "metadata": {},
   "outputs": [
    {
     "name": "stdout",
     "output_type": "stream",
     "text": [
      "Hasil Komputasi Naive Bayes:  0.5077369439071566\n"
     ]
    }
   ],
   "source": [
    "model = MultinomialNB()\n",
    "model.fit(X_train, y_train)\n",
    "print(\"Hasil Komputasi Naive Bayes: \", model.score(X_test, y_test))"
   ]
  },
  {
   "cell_type": "code",
   "execution_count": 15,
   "metadata": {},
   "outputs": [],
   "source": [
    "from sklearn.linear_model import LogisticRegression"
   ]
  },
  {
   "cell_type": "code",
   "execution_count": 16,
   "metadata": {},
   "outputs": [],
   "source": [
    "lr = LogisticRegression()"
   ]
  },
  {
   "cell_type": "code",
   "execution_count": 17,
   "metadata": {},
   "outputs": [
    {
     "name": "stderr",
     "output_type": "stream",
     "text": [
      "/anaconda3/lib/python3.7/site-packages/sklearn/linear_model/logistic.py:433: FutureWarning: Default solver will be changed to 'lbfgs' in 0.22. Specify a solver to silence this warning.\n",
      "  FutureWarning)\n",
      "/anaconda3/lib/python3.7/site-packages/sklearn/linear_model/logistic.py:460: FutureWarning: Default multi_class will be changed to 'auto' in 0.22. Specify the multi_class option to silence this warning.\n",
      "  \"this warning.\", FutureWarning)\n"
     ]
    },
    {
     "data": {
      "text/plain": [
       "LogisticRegression(C=1.0, class_weight=None, dual=False, fit_intercept=True,\n",
       "          intercept_scaling=1, max_iter=100, multi_class='warn',\n",
       "          n_jobs=None, penalty='l2', random_state=None, solver='warn',\n",
       "          tol=0.0001, verbose=0, warm_start=False)"
      ]
     },
     "execution_count": 17,
     "metadata": {},
     "output_type": "execute_result"
    }
   ],
   "source": [
    "lr.fit(X_train, y_train)"
   ]
  },
  {
   "cell_type": "code",
   "execution_count": 18,
   "metadata": {},
   "outputs": [
    {
     "name": "stdout",
     "output_type": "stream",
     "text": [
      "Hasil Komputasi Logistic Regression:  0.4834102068144621\n"
     ]
    }
   ],
   "source": [
    "print(\"Hasil Komputasi Logistic Regression: \", lr.score(X_test, y_test))"
   ]
  },
  {
   "cell_type": "code",
   "execution_count": null,
   "metadata": {},
   "outputs": [],
   "source": []
  }
 ],
 "metadata": {
  "kernelspec": {
   "display_name": "Python 3",
   "language": "python",
   "name": "python3"
  },
  "language_info": {
   "codemirror_mode": {
    "name": "ipython",
    "version": 3
   },
   "file_extension": ".py",
   "mimetype": "text/x-python",
   "name": "python",
   "nbconvert_exporter": "python",
   "pygments_lexer": "ipython3",
   "version": "3.7.1"
  }
 },
 "nbformat": 4,
 "nbformat_minor": 2
}
