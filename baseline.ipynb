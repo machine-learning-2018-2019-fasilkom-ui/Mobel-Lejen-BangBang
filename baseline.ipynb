{
 "cells": [
  {
   "cell_type": "code",
   "execution_count": 1,
   "metadata": {},
   "outputs": [],
   "source": [
    "import pandas as pd\n",
    "from scipy import sparse\n",
    "import numpy as np\n",
    "import random\n",
    "from tqdm import tqdm_notebook"
   ]
  },
  {
   "cell_type": "code",
   "execution_count": 2,
   "metadata": {},
   "outputs": [],
   "source": [
    "from nltk.sentiment.vader import SentimentIntensityAnalyzer\n",
    "from nltk import tokenize"
   ]
  },
  {
   "cell_type": "code",
   "execution_count": 3,
   "metadata": {},
   "outputs": [],
   "source": [
    "df = pd.read_csv(\"lyrics.csv\").set_index(\"index\")"
   ]
  },
  {
   "cell_type": "code",
   "execution_count": 4,
   "metadata": {},
   "outputs": [],
   "source": [
    "df = df.dropna()\n",
    "df = df.query(\"genre != 'Not Available'\")\n",
    "df = df.sample(frac=1).reset_index(drop=True)"
   ]
  },
  {
   "cell_type": "code",
   "execution_count": 5,
   "metadata": {},
   "outputs": [
    {
     "data": {
      "text/plain": [
       "242615"
      ]
     },
     "execution_count": 5,
     "metadata": {},
     "output_type": "execute_result"
    }
   ],
   "source": [
    "len(df)"
   ]
  },
  {
   "cell_type": "code",
   "execution_count": 6,
   "metadata": {},
   "outputs": [
    {
     "data": {
      "text/html": [
       "<div>\n",
       "<style scoped>\n",
       "    .dataframe tbody tr th:only-of-type {\n",
       "        vertical-align: middle;\n",
       "    }\n",
       "\n",
       "    .dataframe tbody tr th {\n",
       "        vertical-align: top;\n",
       "    }\n",
       "\n",
       "    .dataframe thead th {\n",
       "        text-align: right;\n",
       "    }\n",
       "</style>\n",
       "<table border=\"1\" class=\"dataframe\">\n",
       "  <thead>\n",
       "    <tr style=\"text-align: right;\">\n",
       "      <th></th>\n",
       "      <th>song</th>\n",
       "      <th>year</th>\n",
       "      <th>artist</th>\n",
       "      <th>genre</th>\n",
       "      <th>lyrics</th>\n",
       "    </tr>\n",
       "  </thead>\n",
       "  <tbody>\n",
       "    <tr>\n",
       "      <th>0</th>\n",
       "      <td>you-re-mine</td>\n",
       "      <td>2006</td>\n",
       "      <td>dag-nasty</td>\n",
       "      <td>Rock</td>\n",
       "      <td>The last time I spoke to you\\nI was seconds aw...</td>\n",
       "    </tr>\n",
       "    <tr>\n",
       "      <th>1</th>\n",
       "      <td>in-your-head</td>\n",
       "      <td>2007</td>\n",
       "      <td>the-berlin-project</td>\n",
       "      <td>Rock</td>\n",
       "      <td>I'm not one who can complain\\nbecause no one's...</td>\n",
       "    </tr>\n",
       "    <tr>\n",
       "      <th>2</th>\n",
       "      <td>these-foolish-things</td>\n",
       "      <td>2016</td>\n",
       "      <td>count-basie</td>\n",
       "      <td>Jazz</td>\n",
       "      <td>Oh! Will you never let me be?\\nOh! Will you ne...</td>\n",
       "    </tr>\n",
       "    <tr>\n",
       "      <th>3</th>\n",
       "      <td>till-i-see-ya</td>\n",
       "      <td>2004</td>\n",
       "      <td>beverley-knight</td>\n",
       "      <td>Pop</td>\n",
       "      <td>Just one moment\\nIn the blink of an eye\\nDid I...</td>\n",
       "    </tr>\n",
       "    <tr>\n",
       "      <th>4</th>\n",
       "      <td>hospital-food</td>\n",
       "      <td>2006</td>\n",
       "      <td>eels</td>\n",
       "      <td>Rock</td>\n",
       "      <td>Coming through the alley trying to walk withou...</td>\n",
       "    </tr>\n",
       "    <tr>\n",
       "      <th>5</th>\n",
       "      <td>kiss-of-death</td>\n",
       "      <td>2007</td>\n",
       "      <td>buried-alive</td>\n",
       "      <td>Metal</td>\n",
       "      <td>Infected by our callous acts.\\nOur blood flows...</td>\n",
       "    </tr>\n",
       "    <tr>\n",
       "      <th>6</th>\n",
       "      <td>at-the-close-of-every-day</td>\n",
       "      <td>2006</td>\n",
       "      <td>arid</td>\n",
       "      <td>Rock</td>\n",
       "      <td>At the close of every day theres a woman passi...</td>\n",
       "    </tr>\n",
       "    <tr>\n",
       "      <th>7</th>\n",
       "      <td>be-my-love</td>\n",
       "      <td>2009</td>\n",
       "      <td>bobby-valentino</td>\n",
       "      <td>Hip-Hop</td>\n",
       "      <td>Baby girl how you do? 'Cause I think you can't...</td>\n",
       "    </tr>\n",
       "    <tr>\n",
       "      <th>8</th>\n",
       "      <td>white-trash-party-remix</td>\n",
       "      <td>2012</td>\n",
       "      <td>eminem</td>\n",
       "      <td>Hip-Hop</td>\n",
       "      <td>Yeah Oh. get up, I said get up lets go\\nBetter...</td>\n",
       "    </tr>\n",
       "    <tr>\n",
       "      <th>9</th>\n",
       "      <td>we-let-her-down</td>\n",
       "      <td>2009</td>\n",
       "      <td>chris-isaak</td>\n",
       "      <td>Rock</td>\n",
       "      <td>Her mother, her father\\nNever showed her any a...</td>\n",
       "    </tr>\n",
       "  </tbody>\n",
       "</table>\n",
       "</div>"
      ],
      "text/plain": [
       "                        song  year              artist    genre  \\\n",
       "0                you-re-mine  2006           dag-nasty     Rock   \n",
       "1               in-your-head  2007  the-berlin-project     Rock   \n",
       "2       these-foolish-things  2016         count-basie     Jazz   \n",
       "3              till-i-see-ya  2004     beverley-knight      Pop   \n",
       "4              hospital-food  2006                eels     Rock   \n",
       "5              kiss-of-death  2007        buried-alive    Metal   \n",
       "6  at-the-close-of-every-day  2006                arid     Rock   \n",
       "7                 be-my-love  2009     bobby-valentino  Hip-Hop   \n",
       "8    white-trash-party-remix  2012              eminem  Hip-Hop   \n",
       "9            we-let-her-down  2009         chris-isaak     Rock   \n",
       "\n",
       "                                              lyrics  \n",
       "0  The last time I spoke to you\\nI was seconds aw...  \n",
       "1  I'm not one who can complain\\nbecause no one's...  \n",
       "2  Oh! Will you never let me be?\\nOh! Will you ne...  \n",
       "3  Just one moment\\nIn the blink of an eye\\nDid I...  \n",
       "4  Coming through the alley trying to walk withou...  \n",
       "5  Infected by our callous acts.\\nOur blood flows...  \n",
       "6  At the close of every day theres a woman passi...  \n",
       "7  Baby girl how you do? 'Cause I think you can't...  \n",
       "8  Yeah Oh. get up, I said get up lets go\\nBetter...  \n",
       "9  Her mother, her father\\nNever showed her any a...  "
      ]
     },
     "execution_count": 6,
     "metadata": {},
     "output_type": "execute_result"
    }
   ],
   "source": [
    "df.head(10)"
   ]
  },
  {
   "cell_type": "code",
   "execution_count": 7,
   "metadata": {},
   "outputs": [],
   "source": [
    "lyricsList = []\n",
    "\n",
    "for row in df['lyrics'].values:\n",
    "    lyricsList.append(row.replace(\"\\n\",\" \"))\n",
    "\n",
    "df['lyrics'] = lyricsList"
   ]
  },
  {
   "cell_type": "code",
   "execution_count": 8,
   "metadata": {},
   "outputs": [
    {
     "data": {
      "text/html": [
       "<div>\n",
       "<style scoped>\n",
       "    .dataframe tbody tr th:only-of-type {\n",
       "        vertical-align: middle;\n",
       "    }\n",
       "\n",
       "    .dataframe tbody tr th {\n",
       "        vertical-align: top;\n",
       "    }\n",
       "\n",
       "    .dataframe thead th {\n",
       "        text-align: right;\n",
       "    }\n",
       "</style>\n",
       "<table border=\"1\" class=\"dataframe\">\n",
       "  <thead>\n",
       "    <tr style=\"text-align: right;\">\n",
       "      <th></th>\n",
       "      <th>song</th>\n",
       "      <th>year</th>\n",
       "      <th>artist</th>\n",
       "      <th>genre</th>\n",
       "      <th>lyrics</th>\n",
       "    </tr>\n",
       "  </thead>\n",
       "  <tbody>\n",
       "    <tr>\n",
       "      <th>0</th>\n",
       "      <td>you-re-mine</td>\n",
       "      <td>2006</td>\n",
       "      <td>dag-nasty</td>\n",
       "      <td>Rock</td>\n",
       "      <td>The last time I spoke to you I was seconds awa...</td>\n",
       "    </tr>\n",
       "    <tr>\n",
       "      <th>1</th>\n",
       "      <td>in-your-head</td>\n",
       "      <td>2007</td>\n",
       "      <td>the-berlin-project</td>\n",
       "      <td>Rock</td>\n",
       "      <td>I'm not one who can complain because no one's ...</td>\n",
       "    </tr>\n",
       "    <tr>\n",
       "      <th>2</th>\n",
       "      <td>these-foolish-things</td>\n",
       "      <td>2016</td>\n",
       "      <td>count-basie</td>\n",
       "      <td>Jazz</td>\n",
       "      <td>Oh! Will you never let me be? Oh! Will you nev...</td>\n",
       "    </tr>\n",
       "    <tr>\n",
       "      <th>3</th>\n",
       "      <td>till-i-see-ya</td>\n",
       "      <td>2004</td>\n",
       "      <td>beverley-knight</td>\n",
       "      <td>Pop</td>\n",
       "      <td>Just one moment In the blink of an eye Did I m...</td>\n",
       "    </tr>\n",
       "    <tr>\n",
       "      <th>4</th>\n",
       "      <td>hospital-food</td>\n",
       "      <td>2006</td>\n",
       "      <td>eels</td>\n",
       "      <td>Rock</td>\n",
       "      <td>Coming through the alley trying to walk withou...</td>\n",
       "    </tr>\n",
       "  </tbody>\n",
       "</table>\n",
       "</div>"
      ],
      "text/plain": [
       "                   song  year              artist genre  \\\n",
       "0           you-re-mine  2006           dag-nasty  Rock   \n",
       "1          in-your-head  2007  the-berlin-project  Rock   \n",
       "2  these-foolish-things  2016         count-basie  Jazz   \n",
       "3         till-i-see-ya  2004     beverley-knight   Pop   \n",
       "4         hospital-food  2006                eels  Rock   \n",
       "\n",
       "                                              lyrics  \n",
       "0  The last time I spoke to you I was seconds awa...  \n",
       "1  I'm not one who can complain because no one's ...  \n",
       "2  Oh! Will you never let me be? Oh! Will you nev...  \n",
       "3  Just one moment In the blink of an eye Did I m...  \n",
       "4  Coming through the alley trying to walk withou...  "
      ]
     },
     "execution_count": 8,
     "metadata": {},
     "output_type": "execute_result"
    }
   ],
   "source": [
    "df.head(5)"
   ]
  },
  {
   "cell_type": "code",
   "execution_count": 9,
   "metadata": {},
   "outputs": [],
   "source": [
    "from sklearn.feature_extraction.text import CountVectorizer, TfidfVectorizer\n",
    "from sklearn.preprocessing import OneHotEncoder\n",
    "from sklearn.model_selection import StratifiedKFold"
   ]
  },
  {
   "cell_type": "code",
   "execution_count": 10,
   "metadata": {},
   "outputs": [],
   "source": [
    "vectorizer = CountVectorizer(min_df=25)"
   ]
  },
  {
   "cell_type": "code",
   "execution_count": 11,
   "metadata": {},
   "outputs": [],
   "source": [
    "result = vectorizer.fit_transform(df['lyrics'].values)"
   ]
  },
  {
   "cell_type": "code",
   "execution_count": 12,
   "metadata": {},
   "outputs": [
    {
     "data": {
      "text/plain": [
       "(242615, 29883)"
      ]
     },
     "execution_count": 12,
     "metadata": {},
     "output_type": "execute_result"
    }
   ],
   "source": [
    "result.shape"
   ]
  },
  {
   "cell_type": "code",
   "execution_count": 13,
   "metadata": {},
   "outputs": [],
   "source": [
    "encoder = OneHotEncoder(handle_unknown='ignore')"
   ]
  },
  {
   "cell_type": "code",
   "execution_count": 14,
   "metadata": {},
   "outputs": [],
   "source": [
    "label = encoder.fit_transform(df[['genre']].values).toarray()"
   ]
  },
  {
   "cell_type": "code",
   "execution_count": 15,
   "metadata": {},
   "outputs": [],
   "source": [
    "from sklearn.naive_bayes import MultinomialNB"
   ]
  },
  {
   "cell_type": "code",
   "execution_count": 16,
   "metadata": {},
   "outputs": [
    {
     "name": "stdout",
     "output_type": "stream",
     "text": [
      "0.41379026109176337\n",
      "0.41682466408375235\n",
      "0.413103064526101\n",
      "0.4164708791888216\n",
      "0.4110142418434016\n"
     ]
    }
   ],
   "source": [
    "kf = StratifiedKFold(n_splits=5, shuffle=True)\n",
    "for train, test in kf.split(result, df[['genre']].values):\n",
    "    train_X = result[train]\n",
    "    train_y = df['genre'].values[train]\n",
    "    \n",
    "    model = MultinomialNB()\n",
    "    model.fit(train_X, train_y)\n",
    "    \n",
    "    test_X = result[test]\n",
    "    test_y = df['genre'].values[test]\n",
    "    \n",
    "    prediction = model.predict(test_X)\n",
    "    accuracy = 0\n",
    "    for I in range(len(prediction)):\n",
    "        if prediction[I] == test_y[I]:\n",
    "            accuracy += 1\n",
    "    print(accuracy / len(test_y))"
   ]
  },
  {
   "cell_type": "code",
   "execution_count": 17,
   "metadata": {},
   "outputs": [],
   "source": [
    "tfidf_vectorizer = TfidfVectorizer(min_df=25)"
   ]
  },
  {
   "cell_type": "code",
   "execution_count": 18,
   "metadata": {},
   "outputs": [],
   "source": [
    "tfidf_result = tfidf_vectorizer.fit_transform(df['lyrics'].values)"
   ]
  },
  {
   "cell_type": "code",
   "execution_count": 19,
   "metadata": {},
   "outputs": [
    {
     "name": "stdout",
     "output_type": "stream",
     "text": [
      "0.548375131370165\n",
      "0.5502225702745034\n",
      "0.547905117160934\n",
      "0.5474836156794856\n",
      "0.5471258682165749\n"
     ]
    }
   ],
   "source": [
    "kf = StratifiedKFold(n_splits=5, shuffle=True)\n",
    "for train, test in kf.split(tfidf_result, df[['genre']].values):\n",
    "    train_X = tfidf_result[train]\n",
    "    train_y = df['genre'].values[train]\n",
    "    \n",
    "    model = MultinomialNB()\n",
    "    model.fit(train_X, train_y)\n",
    "    \n",
    "    test_X = tfidf_result[test]\n",
    "    test_y = df['genre'].values[test]\n",
    "    \n",
    "    prediction = model.predict(test_X)\n",
    "    accuracy = 0\n",
    "    for I in range(len(prediction)):\n",
    "        if prediction[I] == test_y[I]:\n",
    "            accuracy += 1\n",
    "    print(accuracy / len(test_y))"
   ]
  },
  {
   "cell_type": "code",
   "execution_count": 20,
   "metadata": {},
   "outputs": [
    {
     "data": {
      "text/plain": [
       "(242615, 29883)"
      ]
     },
     "execution_count": 20,
     "metadata": {},
     "output_type": "execute_result"
    }
   ],
   "source": [
    "tfidf_result.shape"
   ]
  },
  {
   "cell_type": "code",
   "execution_count": 21,
   "metadata": {},
   "outputs": [],
   "source": [
    "title = np.array([\" \".join(I.split(\"-\")) for I in df[\"song\"].values])"
   ]
  },
  {
   "cell_type": "code",
   "execution_count": 22,
   "metadata": {},
   "outputs": [],
   "source": [
    "title_vectorizer = TfidfVectorizer(min_df=25)\n",
    "title_result = tfidf_vectorizer.fit_transform(title)"
   ]
  },
  {
   "cell_type": "code",
   "execution_count": 23,
   "metadata": {},
   "outputs": [
    {
     "name": "stdout",
     "output_type": "stream",
     "text": [
      "0.4683784285037196\n",
      "0.470200313247053\n",
      "0.46794303732250686\n",
      "0.4693128889988047\n",
      "0.46754879531729837\n"
     ]
    }
   ],
   "source": [
    "kf = StratifiedKFold(n_splits=5, shuffle=True)\n",
    "for train, test in kf.split(result, df[['genre']].values):\n",
    "    train_X = title_result[train]\n",
    "    train_y = df['genre'].values[train]\n",
    "    \n",
    "    model = MultinomialNB()\n",
    "    model.fit(train_X, train_y)\n",
    "    \n",
    "    test_X = title_result[test]\n",
    "    test_y = df['genre'].values[test]\n",
    "    \n",
    "    prediction = model.predict(test_X)\n",
    "    accuracy = 0\n",
    "    for I in range(len(prediction)):\n",
    "        if prediction[I] == test_y[I]:\n",
    "            accuracy += 1\n",
    "    print(accuracy / len(test_y))"
   ]
  },
  {
   "cell_type": "code",
   "execution_count": 24,
   "metadata": {},
   "outputs": [],
   "source": [
    "W = np.random.normal(size=(result.shape[1], 11))\n",
    "b = np.random.normal(size=(11,))"
   ]
  },
  {
   "cell_type": "code",
   "execution_count": 25,
   "metadata": {},
   "outputs": [],
   "source": [
    "def softmax(inputs):\n",
    "    exp_result =np.exp(inputs)\n",
    "    return exp_result / float(max(sum(exp_result), 0.00001))\n",
    "\n",
    "def model(X, W, b):\n",
    "    y_linear = np.dot(X, W) + b\n",
    "    return softmax(y_linear)\n",
    "\n",
    "def calculate_l2(X, b, delta):\n",
    "    l2 = b\n",
    "    l2 += X.sum()\n",
    "    return l2 * delta"
   ]
  },
  {
   "cell_type": "code",
   "execution_count": 26,
   "metadata": {},
   "outputs": [],
   "source": [
    "def sgd_logistic_regression(X, y, W_aksen, b_aksen, lr, delta):\n",
    "    prediction = model(X, W_aksen, b_aksen)\n",
    "    shape = W_aksen[:,0].shape[0]\n",
    "    error = prediction - y\n",
    "    for kelas in range(len(prediction)):\n",
    "        l2 = calculate_l2(W_aksen[:,kelas], b_aksen[kelas], delta)\n",
    "        b_aksen[kelas] -= lr * (error[kelas] + l2)\n",
    "        W_aksen[:, kelas] -= lr * (X * error[kelas] + l2)"
   ]
  },
  {
   "cell_type": "code",
   "execution_count": 27,
   "metadata": {},
   "outputs": [
    {
     "data": {
      "application/vnd.jupyter.widget-view+json": {
       "model_id": "5da4769285be4c3e82093c2302c3958b",
       "version_major": 2,
       "version_minor": 0
      },
      "text/plain": [
       "HBox(children=(IntProgress(value=0, max=30000), HTML(value='')))"
      ]
     },
     "metadata": {},
     "output_type": "display_data"
    },
    {
     "name": "stdout",
     "output_type": "stream",
     "text": [
      "\n"
     ]
    }
   ],
   "source": [
    "for row in tqdm_notebook(range(30000)):\n",
    "    sgd_logistic_regression(np.array(tfidf_result[row].todense())[0], label[row], W, b, 0.01, 1 / 20000)"
   ]
  },
  {
   "cell_type": "code",
   "execution_count": 28,
   "metadata": {},
   "outputs": [],
   "source": [
    "insertedWord = []\n",
    "for I in range(W.shape[0]):\n",
    "    if np.sum(np.abs(W[I,:]) > 1) > 1:\n",
    "        insertedWord.append(I)"
   ]
  },
  {
   "cell_type": "code",
   "execution_count": 29,
   "metadata": {},
   "outputs": [
    {
     "data": {
      "text/plain": [
       "27147"
      ]
     },
     "execution_count": 29,
     "metadata": {},
     "output_type": "execute_result"
    }
   ],
   "source": [
    "len(insertedWord)"
   ]
  },
  {
   "cell_type": "code",
   "execution_count": 30,
   "metadata": {},
   "outputs": [],
   "source": [
    "tfidf_result_filtered = tfidf_result[:, insertedWord]"
   ]
  },
  {
   "cell_type": "code",
   "execution_count": 31,
   "metadata": {},
   "outputs": [
    {
     "data": {
      "text/plain": [
       "<242615x27147 sparse matrix of type '<class 'numpy.float64'>'\n",
       "\twith 19586574 stored elements in Compressed Sparse Row format>"
      ]
     },
     "execution_count": 31,
     "metadata": {},
     "output_type": "execute_result"
    }
   ],
   "source": [
    "tfidf_result_filtered"
   ]
  },
  {
   "cell_type": "code",
   "execution_count": 32,
   "metadata": {},
   "outputs": [
    {
     "name": "stdout",
     "output_type": "stream",
     "text": [
      "0.5467059575081913\n",
      "0.5466779325694502\n",
      "0.548750077282938\n",
      "0.5477515353860105\n",
      "0.5436014757105464\n"
     ]
    }
   ],
   "source": [
    "kf = StratifiedKFold(n_splits=5, shuffle=True)\n",
    "for train, test in kf.split(tfidf_result_filtered, df[['genre']].values):\n",
    "    train_X = tfidf_result_filtered[train]\n",
    "    train_y = df['genre'].values[train]\n",
    "    \n",
    "    model = MultinomialNB()\n",
    "    model.fit(train_X, train_y)\n",
    "    \n",
    "    test_X = tfidf_result_filtered[test]\n",
    "    test_y = df['genre'].values[test]\n",
    "    \n",
    "    prediction = model.predict(test_X)\n",
    "    accuracy = 0\n",
    "    for I in range(len(prediction)):\n",
    "        if prediction[I] == test_y[I]:\n",
    "            accuracy += 1\n",
    "    print(accuracy / len(test_y))"
   ]
  },
  {
   "cell_type": "code",
   "execution_count": 33,
   "metadata": {},
   "outputs": [],
   "source": [
    "sid = SentimentIntensityAnalyzer()"
   ]
  },
  {
   "cell_type": "code",
   "execution_count": 34,
   "metadata": {},
   "outputs": [
    {
     "data": {
      "application/vnd.jupyter.widget-view+json": {
       "model_id": "709a7fe4acac4ba49ee3a279fc6fe377",
       "version_major": 2,
       "version_minor": 0
      },
      "text/plain": [
       "HBox(children=(IntProgress(value=0, max=242615), HTML(value='')))"
      ]
     },
     "metadata": {},
     "output_type": "display_data"
    },
    {
     "name": "stdout",
     "output_type": "stream",
     "text": [
      "\n"
     ]
    }
   ],
   "source": [
    "sentimentScore = []\n",
    "for I in tqdm_notebook(lyricsList):\n",
    "    ss = sid.polarity_scores(I)\n",
    "    sentimentScore.append(ss)"
   ]
  },
  {
   "cell_type": "code",
   "execution_count": 35,
   "metadata": {},
   "outputs": [
    {
     "data": {
      "application/vnd.jupyter.widget-view+json": {
       "model_id": "b232b70ead6141b8a6ca394cede40593",
       "version_major": 2,
       "version_minor": 0
      },
      "text/plain": [
       "HBox(children=(IntProgress(value=0, max=242615), HTML(value='')))"
      ]
     },
     "metadata": {},
     "output_type": "display_data"
    },
    {
     "name": "stdout",
     "output_type": "stream",
     "text": [
      "\n"
     ]
    }
   ],
   "source": [
    "sentimentLabel = []\n",
    "\n",
    "for I in tqdm_notebook(sentimentScore):\n",
    "    if I['compound'] > 0:\n",
    "        sentimentLabel.append([1,0])\n",
    "    else:\n",
    "        sentimentLabel.append([0,1])"
   ]
  },
  {
   "cell_type": "code",
   "execution_count": 36,
   "metadata": {},
   "outputs": [],
   "source": [
    "sentimentLabel = np.array(sentimentLabel)"
   ]
  },
  {
   "cell_type": "code",
   "execution_count": 38,
   "metadata": {},
   "outputs": [],
   "source": [
    "combined = sparse.hstack((tfidf_result_filtered,sentimentLabel))"
   ]
  },
  {
   "cell_type": "code",
   "execution_count": 39,
   "metadata": {},
   "outputs": [],
   "source": [
    "combined = combined.tocsr()"
   ]
  },
  {
   "cell_type": "code",
   "execution_count": 40,
   "metadata": {},
   "outputs": [
    {
     "name": "stdout",
     "output_type": "stream",
     "text": [
      "0.5500649123168545\n",
      "0.5475640919957134\n",
      "0.5497392988891866\n",
      "0.548637731338362\n",
      "0.5488365382633608\n"
     ]
    }
   ],
   "source": [
    "kf = StratifiedKFold(n_splits=5, shuffle=True)\n",
    "for train, test in kf.split(combined, df[['genre']].values):\n",
    "    train_X = combined[train]\n",
    "    train_y = df['genre'].values[train]\n",
    "    \n",
    "    model = MultinomialNB()\n",
    "    model.fit(train_X, train_y)\n",
    "    \n",
    "    test_X = combined[test]\n",
    "    test_y = df['genre'].values[test]\n",
    "    \n",
    "    prediction = model.predict(test_X)\n",
    "    accuracy = 0\n",
    "    for I in range(len(prediction)):\n",
    "        if prediction[I] == test_y[I]:\n",
    "            accuracy += 1\n",
    "    print(accuracy / len(test_y))"
   ]
  },
  {
   "cell_type": "code",
   "execution_count": 41,
   "metadata": {},
   "outputs": [],
   "source": [
    "combined = sparse.hstack((tfidf_result,sentimentLabel))\n",
    "combined = combined.tocsr()"
   ]
  },
  {
   "cell_type": "code",
   "execution_count": 42,
   "metadata": {},
   "outputs": [
    {
     "name": "stdout",
     "output_type": "stream",
     "text": [
      "0.5519607641107013\n",
      "0.550531695655758\n",
      "0.5509346083300702\n",
      "0.5509047442397264\n",
      "0.5499701148003875\n"
     ]
    }
   ],
   "source": [
    "kf = StratifiedKFold(n_splits=5, shuffle=True)\n",
    "for train, test in kf.split(combined, df[['genre']].values):\n",
    "    train_X = combined[train]\n",
    "    train_y = df['genre'].values[train]\n",
    "    \n",
    "    model = MultinomialNB()\n",
    "    model.fit(train_X, train_y)\n",
    "    \n",
    "    test_X = combined[test]\n",
    "    test_y = df['genre'].values[test]\n",
    "    \n",
    "    prediction = model.predict(test_X)\n",
    "    accuracy = 0\n",
    "    for I in range(len(prediction)):\n",
    "        if prediction[I] == test_y[I]:\n",
    "            accuracy += 1\n",
    "    print(accuracy / len(test_y))"
   ]
  },
  {
   "cell_type": "code",
   "execution_count": 43,
   "metadata": {},
   "outputs": [],
   "source": [
    "combined = sparse.hstack((title_result,sentimentLabel))\n",
    "combined = combined.tocsr()"
   ]
  },
  {
   "cell_type": "code",
   "execution_count": 44,
   "metadata": {},
   "outputs": [
    {
     "name": "stdout",
     "output_type": "stream",
     "text": [
      "0.46835782141900384\n",
      "0.47053004698705797\n",
      "0.46932382581456217\n",
      "0.46879765879394913\n",
      "0.46944495970650674\n"
     ]
    }
   ],
   "source": [
    "kf = StratifiedKFold(n_splits=5, shuffle=True)\n",
    "for train, test in kf.split(combined, df[['genre']].values):\n",
    "    train_X = combined[train]\n",
    "    train_y = df['genre'].values[train]\n",
    "    \n",
    "    model = MultinomialNB()\n",
    "    model.fit(train_X, train_y)\n",
    "    \n",
    "    test_X = combined[test]\n",
    "    test_y = df['genre'].values[test]\n",
    "    \n",
    "    prediction = model.predict(test_X)\n",
    "    accuracy = 0\n",
    "    for I in range(len(prediction)):\n",
    "        if prediction[I] == test_y[I]:\n",
    "            accuracy += 1\n",
    "    print(accuracy / len(test_y))"
   ]
  },
  {
   "cell_type": "code",
   "execution_count": null,
   "metadata": {},
   "outputs": [],
   "source": []
  }
 ],
 "metadata": {
  "kernelspec": {
   "display_name": "Python 3",
   "language": "python",
   "name": "python3"
  },
  "language_info": {
   "codemirror_mode": {
    "name": "ipython",
    "version": 3
   },
   "file_extension": ".py",
   "mimetype": "text/x-python",
   "name": "python",
   "nbconvert_exporter": "python",
   "pygments_lexer": "ipython3",
   "version": "3.7.1"
  }
 },
 "nbformat": 4,
 "nbformat_minor": 2
}
