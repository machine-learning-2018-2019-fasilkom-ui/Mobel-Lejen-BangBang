{
 "cells": [
  {
   "cell_type": "code",
   "execution_count": 1,
   "metadata": {},
   "outputs": [],
   "source": [
    "import pandas as pd\n",
    "from scipy import sparse\n",
    "import numpy as np\n",
    "import random\n",
    "from tqdm import tqdm_notebook"
   ]
  },
  {
   "cell_type": "code",
   "execution_count": 2,
   "metadata": {},
   "outputs": [],
   "source": [
    "from nltk.sentiment.vader import SentimentIntensityAnalyzer\n",
    "from nltk import tokenize"
   ]
  },
  {
   "cell_type": "code",
   "execution_count": 3,
   "metadata": {},
   "outputs": [],
   "source": [
    "df = pd.read_csv(\"lyrics.csv\").set_index(\"index\")"
   ]
  },
  {
   "cell_type": "code",
   "execution_count": 4,
   "metadata": {},
   "outputs": [],
   "source": [
    "df = df.dropna()\n",
    "df = df.query(\"genre != 'Not Available'\")\n",
    "df = df.sample(frac=1).reset_index(drop=True)"
   ]
  },
  {
   "cell_type": "code",
   "execution_count": 5,
   "metadata": {},
   "outputs": [
    {
     "data": {
      "text/plain": [
       "242615"
      ]
     },
     "execution_count": 5,
     "metadata": {},
     "output_type": "execute_result"
    }
   ],
   "source": [
    "len(df)"
   ]
  },
  {
   "cell_type": "code",
   "execution_count": 6,
   "metadata": {},
   "outputs": [
    {
     "data": {
      "text/html": [
       "<div>\n",
       "<style scoped>\n",
       "    .dataframe tbody tr th:only-of-type {\n",
       "        vertical-align: middle;\n",
       "    }\n",
       "\n",
       "    .dataframe tbody tr th {\n",
       "        vertical-align: top;\n",
       "    }\n",
       "\n",
       "    .dataframe thead th {\n",
       "        text-align: right;\n",
       "    }\n",
       "</style>\n",
       "<table border=\"1\" class=\"dataframe\">\n",
       "  <thead>\n",
       "    <tr style=\"text-align: right;\">\n",
       "      <th></th>\n",
       "      <th>song</th>\n",
       "      <th>year</th>\n",
       "      <th>artist</th>\n",
       "      <th>genre</th>\n",
       "      <th>lyrics</th>\n",
       "    </tr>\n",
       "  </thead>\n",
       "  <tbody>\n",
       "    <tr>\n",
       "      <th>0</th>\n",
       "      <td>i-wish</td>\n",
       "      <td>2007</td>\n",
       "      <td>drain-s-t-h</td>\n",
       "      <td>Rock</td>\n",
       "      <td>Am I too corrosive?\\nAm I just too weak?\\nAm I...</td>\n",
       "    </tr>\n",
       "    <tr>\n",
       "      <th>1</th>\n",
       "      <td>real-life</td>\n",
       "      <td>2009</td>\n",
       "      <td>alice-peacock</td>\n",
       "      <td>Pop</td>\n",
       "      <td>Met her at the high school dance\\nDown at the ...</td>\n",
       "    </tr>\n",
       "    <tr>\n",
       "      <th>2</th>\n",
       "      <td>we-rot-the-voodoo</td>\n",
       "      <td>2007</td>\n",
       "      <td>the-dingees</td>\n",
       "      <td>Rock</td>\n",
       "      <td>We rot the voodoo, for we do not fear\\nSpirit ...</td>\n",
       "    </tr>\n",
       "    <tr>\n",
       "      <th>3</th>\n",
       "      <td>for-all-that-you-want</td>\n",
       "      <td>1999</td>\n",
       "      <td>gary-barlow</td>\n",
       "      <td>Pop</td>\n",
       "      <td>I can't sit and wait,\\nfor you to say,\\nIf the...</td>\n",
       "    </tr>\n",
       "    <tr>\n",
       "      <th>4</th>\n",
       "      <td>i-ve-had-enough</td>\n",
       "      <td>2016</td>\n",
       "      <td>emmylou-harris</td>\n",
       "      <td>Country</td>\n",
       "      <td>Love it's not I who didn't try\\nHard enough, h...</td>\n",
       "    </tr>\n",
       "    <tr>\n",
       "      <th>5</th>\n",
       "      <td>rudolph-the-red-nose-reindeer</td>\n",
       "      <td>2007</td>\n",
       "      <td>dean-martin</td>\n",
       "      <td>Jazz</td>\n",
       "      <td>Rudolph the red-nosed reindeer\\nHad a very shi...</td>\n",
       "    </tr>\n",
       "    <tr>\n",
       "      <th>6</th>\n",
       "      <td>world-keeps-on-turning</td>\n",
       "      <td>2007</td>\n",
       "      <td>fleetwood-mac</td>\n",
       "      <td>Rock</td>\n",
       "      <td>I don't look for no worries, worries and troub...</td>\n",
       "    </tr>\n",
       "    <tr>\n",
       "      <th>7</th>\n",
       "      <td>good</td>\n",
       "      <td>2005</td>\n",
       "      <td>better-than-ezra</td>\n",
       "      <td>Rock</td>\n",
       "      <td>Looking around the house\\nHidden behind the wi...</td>\n",
       "    </tr>\n",
       "    <tr>\n",
       "      <th>8</th>\n",
       "      <td>20th-century</td>\n",
       "      <td>2006</td>\n",
       "      <td>alphaville</td>\n",
       "      <td>Pop</td>\n",
       "      <td>In the beginning\\nThere was no light\\nNo teena...</td>\n",
       "    </tr>\n",
       "    <tr>\n",
       "      <th>9</th>\n",
       "      <td>deep-deep-ocean</td>\n",
       "      <td>2014</td>\n",
       "      <td>belinda-carlisle</td>\n",
       "      <td>Pop</td>\n",
       "      <td>I heard you call my name\\nWhy do you sit in si...</td>\n",
       "    </tr>\n",
       "  </tbody>\n",
       "</table>\n",
       "</div>"
      ],
      "text/plain": [
       "                            song  year            artist    genre  \\\n",
       "0                         i-wish  2007       drain-s-t-h     Rock   \n",
       "1                      real-life  2009     alice-peacock      Pop   \n",
       "2              we-rot-the-voodoo  2007       the-dingees     Rock   \n",
       "3          for-all-that-you-want  1999       gary-barlow      Pop   \n",
       "4                i-ve-had-enough  2016    emmylou-harris  Country   \n",
       "5  rudolph-the-red-nose-reindeer  2007       dean-martin     Jazz   \n",
       "6         world-keeps-on-turning  2007     fleetwood-mac     Rock   \n",
       "7                           good  2005  better-than-ezra     Rock   \n",
       "8                   20th-century  2006        alphaville      Pop   \n",
       "9                deep-deep-ocean  2014  belinda-carlisle      Pop   \n",
       "\n",
       "                                              lyrics  \n",
       "0  Am I too corrosive?\\nAm I just too weak?\\nAm I...  \n",
       "1  Met her at the high school dance\\nDown at the ...  \n",
       "2  We rot the voodoo, for we do not fear\\nSpirit ...  \n",
       "3  I can't sit and wait,\\nfor you to say,\\nIf the...  \n",
       "4  Love it's not I who didn't try\\nHard enough, h...  \n",
       "5  Rudolph the red-nosed reindeer\\nHad a very shi...  \n",
       "6  I don't look for no worries, worries and troub...  \n",
       "7  Looking around the house\\nHidden behind the wi...  \n",
       "8  In the beginning\\nThere was no light\\nNo teena...  \n",
       "9  I heard you call my name\\nWhy do you sit in si...  "
      ]
     },
     "execution_count": 6,
     "metadata": {},
     "output_type": "execute_result"
    }
   ],
   "source": [
    "df.head(10)"
   ]
  },
  {
   "cell_type": "code",
   "execution_count": 7,
   "metadata": {},
   "outputs": [],
   "source": [
    "lyricsList = []\n",
    "\n",
    "for row in df['lyrics'].values:\n",
    "    lyricsList.append(row.replace(\"\\n\",\" \"))\n",
    "\n",
    "df['lyrics'] = lyricsList"
   ]
  },
  {
   "cell_type": "code",
   "execution_count": 8,
   "metadata": {},
   "outputs": [
    {
     "data": {
      "text/html": [
       "<div>\n",
       "<style scoped>\n",
       "    .dataframe tbody tr th:only-of-type {\n",
       "        vertical-align: middle;\n",
       "    }\n",
       "\n",
       "    .dataframe tbody tr th {\n",
       "        vertical-align: top;\n",
       "    }\n",
       "\n",
       "    .dataframe thead th {\n",
       "        text-align: right;\n",
       "    }\n",
       "</style>\n",
       "<table border=\"1\" class=\"dataframe\">\n",
       "  <thead>\n",
       "    <tr style=\"text-align: right;\">\n",
       "      <th></th>\n",
       "      <th>song</th>\n",
       "      <th>year</th>\n",
       "      <th>artist</th>\n",
       "      <th>genre</th>\n",
       "      <th>lyrics</th>\n",
       "    </tr>\n",
       "  </thead>\n",
       "  <tbody>\n",
       "    <tr>\n",
       "      <th>0</th>\n",
       "      <td>i-wish</td>\n",
       "      <td>2007</td>\n",
       "      <td>drain-s-t-h</td>\n",
       "      <td>Rock</td>\n",
       "      <td>Am I too corrosive? Am I just too weak? Am I t...</td>\n",
       "    </tr>\n",
       "    <tr>\n",
       "      <th>1</th>\n",
       "      <td>real-life</td>\n",
       "      <td>2009</td>\n",
       "      <td>alice-peacock</td>\n",
       "      <td>Pop</td>\n",
       "      <td>Met her at the high school dance Down at the A...</td>\n",
       "    </tr>\n",
       "    <tr>\n",
       "      <th>2</th>\n",
       "      <td>we-rot-the-voodoo</td>\n",
       "      <td>2007</td>\n",
       "      <td>the-dingees</td>\n",
       "      <td>Rock</td>\n",
       "      <td>We rot the voodoo, for we do not fear Spirit o...</td>\n",
       "    </tr>\n",
       "    <tr>\n",
       "      <th>3</th>\n",
       "      <td>for-all-that-you-want</td>\n",
       "      <td>1999</td>\n",
       "      <td>gary-barlow</td>\n",
       "      <td>Pop</td>\n",
       "      <td>I can't sit and wait, for you to say, If there...</td>\n",
       "    </tr>\n",
       "    <tr>\n",
       "      <th>4</th>\n",
       "      <td>i-ve-had-enough</td>\n",
       "      <td>2016</td>\n",
       "      <td>emmylou-harris</td>\n",
       "      <td>Country</td>\n",
       "      <td>Love it's not I who didn't try Hard enough, ha...</td>\n",
       "    </tr>\n",
       "  </tbody>\n",
       "</table>\n",
       "</div>"
      ],
      "text/plain": [
       "                    song  year          artist    genre  \\\n",
       "0                 i-wish  2007     drain-s-t-h     Rock   \n",
       "1              real-life  2009   alice-peacock      Pop   \n",
       "2      we-rot-the-voodoo  2007     the-dingees     Rock   \n",
       "3  for-all-that-you-want  1999     gary-barlow      Pop   \n",
       "4        i-ve-had-enough  2016  emmylou-harris  Country   \n",
       "\n",
       "                                              lyrics  \n",
       "0  Am I too corrosive? Am I just too weak? Am I t...  \n",
       "1  Met her at the high school dance Down at the A...  \n",
       "2  We rot the voodoo, for we do not fear Spirit o...  \n",
       "3  I can't sit and wait, for you to say, If there...  \n",
       "4  Love it's not I who didn't try Hard enough, ha...  "
      ]
     },
     "execution_count": 8,
     "metadata": {},
     "output_type": "execute_result"
    }
   ],
   "source": [
    "df.head(5)"
   ]
  },
  {
   "cell_type": "code",
   "execution_count": 58,
   "metadata": {},
   "outputs": [
    {
     "data": {
      "text/plain": [
       "{'Country',\n",
       " 'Electronic',\n",
       " 'Folk',\n",
       " 'Hip-Hop',\n",
       " 'Indie',\n",
       " 'Jazz',\n",
       " 'Metal',\n",
       " 'Other',\n",
       " 'Pop',\n",
       " 'R&B',\n",
       " 'Rock'}"
      ]
     },
     "execution_count": 58,
     "metadata": {},
     "output_type": "execute_result"
    }
   ],
   "source": [
    "set(df['genre'].values)"
   ]
  },
  {
   "cell_type": "code",
   "execution_count": 9,
   "metadata": {},
   "outputs": [],
   "source": [
    "from sklearn.feature_extraction.text import CountVectorizer, TfidfVectorizer\n",
    "from sklearn.preprocessing import OneHotEncoder\n",
    "from sklearn.model_selection import StratifiedKFold"
   ]
  },
  {
   "cell_type": "code",
   "execution_count": 10,
   "metadata": {},
   "outputs": [],
   "source": [
    "vectorizer = CountVectorizer(min_df=25)"
   ]
  },
  {
   "cell_type": "code",
   "execution_count": 11,
   "metadata": {},
   "outputs": [],
   "source": [
    "result = vectorizer.fit_transform(df['lyrics'].values)"
   ]
  },
  {
   "cell_type": "code",
   "execution_count": 12,
   "metadata": {},
   "outputs": [
    {
     "data": {
      "text/plain": [
       "(242615, 29883)"
      ]
     },
     "execution_count": 12,
     "metadata": {},
     "output_type": "execute_result"
    }
   ],
   "source": [
    "result.shape"
   ]
  },
  {
   "cell_type": "code",
   "execution_count": 13,
   "metadata": {},
   "outputs": [],
   "source": [
    "encoder = OneHotEncoder(handle_unknown='ignore')"
   ]
  },
  {
   "cell_type": "code",
   "execution_count": 14,
   "metadata": {},
   "outputs": [],
   "source": [
    "label = encoder.fit_transform(df[['genre']].values).toarray()"
   ]
  },
  {
   "cell_type": "code",
   "execution_count": 15,
   "metadata": {},
   "outputs": [],
   "source": [
    "from sklearn.naive_bayes import MultinomialNB"
   ]
  },
  {
   "cell_type": "code",
   "execution_count": 16,
   "metadata": {},
   "outputs": [
    {
     "name": "stdout",
     "output_type": "stream",
     "text": [
      "0.41354297607517465\n",
      "0.41676283900750144\n",
      "0.4154936834078684\n",
      "0.4173158567247846\n",
      "0.4099837177188318\n"
     ]
    }
   ],
   "source": [
    "kf = StratifiedKFold(n_splits=5, shuffle=True)\n",
    "for train, test in kf.split(result, df[['genre']].values):\n",
    "    train_X = result[train]\n",
    "    train_y = df['genre'].values[train]\n",
    "    \n",
    "    model = MultinomialNB()\n",
    "    model.fit(train_X, train_y)\n",
    "    \n",
    "    test_X = result[test]\n",
    "    test_y = df['genre'].values[test]\n",
    "    \n",
    "    prediction = model.predict(test_X)\n",
    "    accuracy = 0\n",
    "    for I in range(len(prediction)):\n",
    "        if prediction[I] == test_y[I]:\n",
    "            accuracy += 1\n",
    "    print(accuracy / len(test_y))"
   ]
  },
  {
   "cell_type": "code",
   "execution_count": 51,
   "metadata": {},
   "outputs": [
    {
     "data": {
      "text/plain": [
       "0.41461981458683217"
      ]
     },
     "execution_count": 51,
     "metadata": {},
     "output_type": "execute_result"
    }
   ],
   "source": [
    "sum([0.41354297607517465, 0.41676283900750144, 0.4154936834078684, 0.4173158567247846, 0.4099837177188318]) / 5"
   ]
  },
  {
   "cell_type": "code",
   "execution_count": 17,
   "metadata": {},
   "outputs": [],
   "source": [
    "tfidf_vectorizer = TfidfVectorizer(min_df=25)"
   ]
  },
  {
   "cell_type": "code",
   "execution_count": 18,
   "metadata": {},
   "outputs": [],
   "source": [
    "tfidf_result = tfidf_vectorizer.fit_transform(df['lyrics'].values)"
   ]
  },
  {
   "cell_type": "code",
   "execution_count": null,
   "metadata": {},
   "outputs": [
    {
     "name": "stdout",
     "output_type": "stream",
     "text": [
      "0.5495909493683928\n",
      "0.5490066771082351\n",
      "0.5477402468932259\n",
      "0.5482255471744776\n",
      "0.546919763391661\n"
     ]
    }
   ],
   "source": [
    "kf = StratifiedKFold(n_splits=5, shuffle=True)\n",
    "for train, test in kf.split(tfidf_result, df[['genre']].values):\n",
    "    train_X = tfidf_result[train]\n",
    "    train_y = df['genre'].values[train]\n",
    "    \n",
    "    model = MultinomialNB()\n",
    "    model.fit(train_X, train_y)\n",
    "    \n",
    "    test_X = tfidf_result[test]\n",
    "    test_y = df['genre'].values[test]\n",
    "    \n",
    "    prediction = model.predict(test_X)\n",
    "    accuracy = 0\n",
    "    for I in range(len(prediction)):\n",
    "        if prediction[I] == test_y[I]:\n",
    "            accuracy += 1\n",
    "    print(accuracy / len(test_y))"
   ]
  },
  {
   "cell_type": "code",
   "execution_count": 52,
   "metadata": {},
   "outputs": [
    {
     "data": {
      "text/plain": [
       "0.5482966367871984"
      ]
     },
     "execution_count": 52,
     "metadata": {},
     "output_type": "execute_result"
    }
   ],
   "source": [
    "sum([0.5495909493683928, 0.5490066771082351, 0.5477402468932259, 0.5482255471744776, 0.546919763391661]) / 5"
   ]
  },
  {
   "cell_type": "code",
   "execution_count": null,
   "metadata": {},
   "outputs": [
    {
     "data": {
      "text/plain": [
       "(242615, 29883)"
      ]
     },
     "execution_count": 20,
     "metadata": {},
     "output_type": "execute_result"
    }
   ],
   "source": [
    "tfidf_result.shape"
   ]
  },
  {
   "cell_type": "code",
   "execution_count": null,
   "metadata": {},
   "outputs": [],
   "source": [
    "title = np.array([\" \".join(I.split(\"-\")) for I in df[\"song\"].values])"
   ]
  },
  {
   "cell_type": "code",
   "execution_count": null,
   "metadata": {},
   "outputs": [],
   "source": [
    "title_vectorizer = TfidfVectorizer(min_df=25)\n",
    "title_result = tfidf_vectorizer.fit_transform(title)"
   ]
  },
  {
   "cell_type": "code",
   "execution_count": null,
   "metadata": {},
   "outputs": [
    {
     "name": "stdout",
     "output_type": "stream",
     "text": [
      "0.4687081418591712\n",
      "0.4697469293545462\n",
      "0.46728355625167445\n",
      "0.46766415234326697\n",
      "0.46895030812671323\n"
     ]
    }
   ],
   "source": [
    "kf = StratifiedKFold(n_splits=5, shuffle=True)\n",
    "for train, test in kf.split(result, df[['genre']].values):\n",
    "    train_X = title_result[train]\n",
    "    train_y = df['genre'].values[train]\n",
    "    \n",
    "    model = MultinomialNB()\n",
    "    model.fit(train_X, train_y)\n",
    "    \n",
    "    test_X = title_result[test]\n",
    "    test_y = df['genre'].values[test]\n",
    "    \n",
    "    prediction = model.predict(test_X)\n",
    "    accuracy = 0\n",
    "    for I in range(len(prediction)):\n",
    "        if prediction[I] == test_y[I]:\n",
    "            accuracy += 1\n",
    "    print(accuracy / len(test_y))"
   ]
  },
  {
   "cell_type": "code",
   "execution_count": 53,
   "metadata": {},
   "outputs": [
    {
     "data": {
      "text/plain": [
       "0.4684706175870744"
      ]
     },
     "execution_count": 53,
     "metadata": {},
     "output_type": "execute_result"
    }
   ],
   "source": [
    "sum([0.4687081418591712, 0.4697469293545462, 0.46728355625167445, 0.46766415234326697, 0.46895030812671323]) / 5"
   ]
  },
  {
   "cell_type": "code",
   "execution_count": null,
   "metadata": {},
   "outputs": [],
   "source": [
    "W = np.random.normal(size=(result.shape[1], 11))\n",
    "b = np.random.normal(size=(11,))"
   ]
  },
  {
   "cell_type": "code",
   "execution_count": null,
   "metadata": {},
   "outputs": [],
   "source": [
    "def softmax(inputs):\n",
    "    exp_result =np.exp(inputs)\n",
    "    return exp_result / float(max(sum(exp_result), 0.00001))\n",
    "\n",
    "def model(X, W, b):\n",
    "    y_linear = np.dot(X, W) + b\n",
    "    return softmax(y_linear)\n",
    "\n",
    "def calculate_l2(X, b, delta):\n",
    "    l2 = b\n",
    "    l2 += X.sum()\n",
    "    return l2 * delta"
   ]
  },
  {
   "cell_type": "code",
   "execution_count": null,
   "metadata": {},
   "outputs": [],
   "source": [
    "def sgd_logistic_regression(X, y, W_aksen, b_aksen, lr, delta):\n",
    "    prediction = model(X, W_aksen, b_aksen)\n",
    "    shape = W_aksen[:,0].shape[0]\n",
    "    error = prediction - y\n",
    "    for kelas in range(len(prediction)):\n",
    "        l2 = calculate_l2(W_aksen[:,kelas], b_aksen[kelas], delta)\n",
    "        b_aksen[kelas] -= lr * (error[kelas] + l2)\n",
    "        W_aksen[:, kelas] -= lr * (X * error[kelas] + l2)"
   ]
  },
  {
   "cell_type": "code",
   "execution_count": null,
   "metadata": {},
   "outputs": [
    {
     "data": {
      "application/vnd.jupyter.widget-view+json": {
       "model_id": "2ddf2d6b1d6b4c7b892cc59d0411ac65",
       "version_major": 2,
       "version_minor": 0
      },
      "text/plain": [
       "HBox(children=(IntProgress(value=0, max=30000), HTML(value='')))"
      ]
     },
     "metadata": {},
     "output_type": "display_data"
    },
    {
     "name": "stdout",
     "output_type": "stream",
     "text": [
      "\n"
     ]
    }
   ],
   "source": [
    "for row in tqdm_notebook(range(30000)):\n",
    "    sgd_logistic_regression(np.array(tfidf_result[row].todense())[0], label[row], W, b, 0.01, 1 / 20000)"
   ]
  },
  {
   "cell_type": "code",
   "execution_count": null,
   "metadata": {},
   "outputs": [],
   "source": [
    "insertedWord = []\n",
    "for I in range(W.shape[0]):\n",
    "    if np.sum(np.abs(W[I,:]) > 1) > 1:\n",
    "        insertedWord.append(I)"
   ]
  },
  {
   "cell_type": "code",
   "execution_count": null,
   "metadata": {},
   "outputs": [
    {
     "data": {
      "text/plain": [
       "27128"
      ]
     },
     "execution_count": 29,
     "metadata": {},
     "output_type": "execute_result"
    }
   ],
   "source": [
    "len(insertedWord)"
   ]
  },
  {
   "cell_type": "code",
   "execution_count": null,
   "metadata": {},
   "outputs": [],
   "source": [
    "tfidf_result_filtered = tfidf_result[:, insertedWord]"
   ]
  },
  {
   "cell_type": "code",
   "execution_count": null,
   "metadata": {},
   "outputs": [
    {
     "data": {
      "text/plain": [
       "<242615x27128 sparse matrix of type '<class 'numpy.float64'>'\n",
       "\twith 20133191 stored elements in Compressed Sparse Row format>"
      ]
     },
     "execution_count": 31,
     "metadata": {},
     "output_type": "execute_result"
    }
   ],
   "source": [
    "tfidf_result_filtered"
   ]
  },
  {
   "cell_type": "code",
   "execution_count": null,
   "metadata": {},
   "outputs": [
    {
     "name": "stdout",
     "output_type": "stream",
     "text": [
      "0.5467059575081913\n",
      "0.5483266012694749\n",
      "0.5464418935350246\n",
      "0.5459997526895016\n",
      "0.5457861868546343\n"
     ]
    }
   ],
   "source": [
    "kf = StratifiedKFold(n_splits=5, shuffle=True)\n",
    "for train, test in kf.split(tfidf_result_filtered, df[['genre']].values):\n",
    "    train_X = tfidf_result_filtered[train]\n",
    "    train_y = df['genre'].values[train]\n",
    "    \n",
    "    model = MultinomialNB()\n",
    "    model.fit(train_X, train_y)\n",
    "    \n",
    "    test_X = tfidf_result_filtered[test]\n",
    "    test_y = df['genre'].values[test]\n",
    "    \n",
    "    prediction = model.predict(test_X)\n",
    "    accuracy = 0\n",
    "    for I in range(len(prediction)):\n",
    "        if prediction[I] == test_y[I]:\n",
    "            accuracy += 1\n",
    "    print(accuracy / len(test_y))"
   ]
  },
  {
   "cell_type": "code",
   "execution_count": 54,
   "metadata": {},
   "outputs": [
    {
     "data": {
      "text/plain": [
       "0.5466520783713653"
      ]
     },
     "execution_count": 54,
     "metadata": {},
     "output_type": "execute_result"
    }
   ],
   "source": [
    "sum([0.5467059575081913, 0.5483266012694749, 0.5464418935350246, 0.5459997526895016, 0.5457861868546343]) / 5"
   ]
  },
  {
   "cell_type": "code",
   "execution_count": null,
   "metadata": {},
   "outputs": [],
   "source": [
    "sid = SentimentIntensityAnalyzer()"
   ]
  },
  {
   "cell_type": "code",
   "execution_count": null,
   "metadata": {},
   "outputs": [
    {
     "data": {
      "application/vnd.jupyter.widget-view+json": {
       "model_id": "f2de3b9055af41c7a1a82882f16b57b2",
       "version_major": 2,
       "version_minor": 0
      },
      "text/plain": [
       "HBox(children=(IntProgress(value=0, max=242615), HTML(value='')))"
      ]
     },
     "metadata": {},
     "output_type": "display_data"
    },
    {
     "name": "stdout",
     "output_type": "stream",
     "text": [
      "\n"
     ]
    }
   ],
   "source": [
    "sentimentScore = []\n",
    "for I in tqdm_notebook(lyricsList):\n",
    "    ss = sid.polarity_scores(I)\n",
    "    sentimentScore.append(ss)"
   ]
  },
  {
   "cell_type": "code",
   "execution_count": null,
   "metadata": {},
   "outputs": [
    {
     "data": {
      "application/vnd.jupyter.widget-view+json": {
       "model_id": "c65c09b0092c47aebbb0da9444a0bd24",
       "version_major": 2,
       "version_minor": 0
      },
      "text/plain": [
       "HBox(children=(IntProgress(value=0, max=242615), HTML(value='')))"
      ]
     },
     "metadata": {},
     "output_type": "display_data"
    }
   ],
   "source": [
    "sentimentLabel = []\n",
    "\n",
    "for I in tqdm_notebook(sentimentScore):\n",
    "    if I['compound'] > 0:\n",
    "        sentimentLabel.append([1,0])\n",
    "    else:\n",
    "        sentimentLabel.append([0,1])"
   ]
  },
  {
   "cell_type": "code",
   "execution_count": null,
   "metadata": {},
   "outputs": [],
   "source": [
    "sentimentLabel = np.array(sentimentLabel)"
   ]
  },
  {
   "cell_type": "code",
   "execution_count": 44,
   "metadata": {},
   "outputs": [],
   "source": [
    "combined = sparse.hstack((tfidf_result_filtered,sentimentLabel))"
   ]
  },
  {
   "cell_type": "code",
   "execution_count": 45,
   "metadata": {},
   "outputs": [],
   "source": [
    "combined = combined.tocsr()"
   ]
  },
  {
   "cell_type": "code",
   "execution_count": 46,
   "metadata": {},
   "outputs": [
    {
     "name": "stdout",
     "output_type": "stream",
     "text": [
      "0.5460877449667195\n",
      "0.5506965625257605\n",
      "0.5496156461884055\n",
      "0.5502040311611228\n",
      "0.549475463220594\n"
     ]
    }
   ],
   "source": [
    "kf = StratifiedKFold(n_splits=5, shuffle=True)\n",
    "for train, test in kf.split(combined, df[['genre']].values):\n",
    "    train_X = combined[train]\n",
    "    train_y = df['genre'].values[train]\n",
    "    \n",
    "    model = MultinomialNB()\n",
    "    model.fit(train_X, train_y)\n",
    "    \n",
    "    test_X = combined[test]\n",
    "    test_y = df['genre'].values[test]\n",
    "    \n",
    "    prediction = model.predict(test_X)\n",
    "    accuracy = 0\n",
    "    for I in range(len(prediction)):\n",
    "        if prediction[I] == test_y[I]:\n",
    "            accuracy += 1\n",
    "    print(accuracy / len(test_y))"
   ]
  },
  {
   "cell_type": "code",
   "execution_count": 55,
   "metadata": {},
   "outputs": [
    {
     "data": {
      "text/plain": [
       "0.5492158896125205"
      ]
     },
     "execution_count": 55,
     "metadata": {},
     "output_type": "execute_result"
    }
   ],
   "source": [
    "sum([0.5460877449667195, 0.5506965625257605, 0.5496156461884055, 0.5502040311611228, 0.549475463220594]) / 5"
   ]
  },
  {
   "cell_type": "code",
   "execution_count": 47,
   "metadata": {},
   "outputs": [],
   "source": [
    "combined = sparse.hstack((tfidf_result,sentimentLabel))\n",
    "combined = combined.tocsr()"
   ]
  },
  {
   "cell_type": "code",
   "execution_count": 48,
   "metadata": {},
   "outputs": [
    {
     "name": "stdout",
     "output_type": "stream",
     "text": [
      "0.5524759412285943\n",
      "0.5524070563020361\n",
      "0.5525833110071513\n",
      "0.5496888009562673\n",
      "0.5490220326057833\n"
     ]
    }
   ],
   "source": [
    "kf = StratifiedKFold(n_splits=5, shuffle=True)\n",
    "for train, test in kf.split(combined, df[['genre']].values):\n",
    "    train_X = combined[train]\n",
    "    train_y = df['genre'].values[train]\n",
    "    \n",
    "    model = MultinomialNB()\n",
    "    model.fit(train_X, train_y)\n",
    "    \n",
    "    test_X = combined[test]\n",
    "    test_y = df['genre'].values[test]\n",
    "    \n",
    "    prediction = model.predict(test_X)\n",
    "    accuracy = 0\n",
    "    for I in range(len(prediction)):\n",
    "        if prediction[I] == test_y[I]:\n",
    "            accuracy += 1\n",
    "    print(accuracy / len(test_y))"
   ]
  },
  {
   "cell_type": "code",
   "execution_count": 56,
   "metadata": {},
   "outputs": [
    {
     "data": {
      "text/plain": [
       "0.5512354284199665"
      ]
     },
     "execution_count": 56,
     "metadata": {},
     "output_type": "execute_result"
    }
   ],
   "source": [
    "sum([0.5524759412285943, 0.5524070563020361, 0.5525833110071513, 0.5496888009562673, 0.5490220326057833]) / 5"
   ]
  },
  {
   "cell_type": "code",
   "execution_count": 49,
   "metadata": {},
   "outputs": [],
   "source": [
    "combined = sparse.hstack((title_result,sentimentLabel))\n",
    "combined = combined.tocsr()"
   ]
  },
  {
   "cell_type": "code",
   "execution_count": 50,
   "metadata": {},
   "outputs": [
    {
     "name": "stdout",
     "output_type": "stream",
     "text": [
      "0.4692027118923486\n",
      "0.4697057126370456\n",
      "0.4685406920429487\n",
      "0.46910679691686247\n",
      "0.4699396112863002\n"
     ]
    }
   ],
   "source": [
    "kf = StratifiedKFold(n_splits=5, shuffle=True)\n",
    "for train, test in kf.split(combined, df[['genre']].values):\n",
    "    train_X = combined[train]\n",
    "    train_y = df['genre'].values[train]\n",
    "    \n",
    "    model = MultinomialNB()\n",
    "    model.fit(train_X, train_y)\n",
    "    \n",
    "    test_X = combined[test]\n",
    "    test_y = df['genre'].values[test]\n",
    "    \n",
    "    prediction = model.predict(test_X)\n",
    "    accuracy = 0\n",
    "    for I in range(len(prediction)):\n",
    "        if prediction[I] == test_y[I]:\n",
    "            accuracy += 1\n",
    "    print(accuracy / len(test_y))"
   ]
  },
  {
   "cell_type": "code",
   "execution_count": 57,
   "metadata": {},
   "outputs": [
    {
     "data": {
      "text/plain": [
       "0.46929910495510113"
      ]
     },
     "execution_count": 57,
     "metadata": {},
     "output_type": "execute_result"
    }
   ],
   "source": [
    "sum([0.4692027118923486, 0.4697057126370456, 0.4685406920429487, 0.46910679691686247, 0.4699396112863002]) / 5"
   ]
  },
  {
   "cell_type": "code",
   "execution_count": null,
   "metadata": {},
   "outputs": [],
   "source": []
  }
 ],
 "metadata": {
  "kernelspec": {
   "display_name": "Python 3",
   "language": "python",
   "name": "python3"
  },
  "language_info": {
   "codemirror_mode": {
    "name": "ipython",
    "version": 3
   },
   "file_extension": ".py",
   "mimetype": "text/x-python",
   "name": "python",
   "nbconvert_exporter": "python",
   "pygments_lexer": "ipython3",
   "version": "3.7.1"
  }
 },
 "nbformat": 4,
 "nbformat_minor": 2
}
