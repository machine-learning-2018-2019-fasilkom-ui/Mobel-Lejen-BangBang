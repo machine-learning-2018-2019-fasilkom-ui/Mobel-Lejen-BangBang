{
 "cells": [
  {
   "cell_type": "code",
   "execution_count": 1,
   "metadata": {},
   "outputs": [],
   "source": [
    "import pandas as pd\n",
    "import numpy as np\n",
    "import random\n",
    "from tqdm import tqdm_notebook"
   ]
  },
  {
   "cell_type": "code",
   "execution_count": 2,
   "metadata": {},
   "outputs": [],
   "source": [
    "df = pd.read_csv(\"lyrics.csv\").set_index(\"index\")"
   ]
  },
  {
   "cell_type": "code",
   "execution_count": 3,
   "metadata": {},
   "outputs": [],
   "source": [
    "df = df.dropna()\n",
    "df = df.query(\"genre != 'Not Available'\")\n",
    "df = df.sample(frac=1).reset_index(drop=True)"
   ]
  },
  {
   "cell_type": "code",
   "execution_count": 4,
   "metadata": {},
   "outputs": [
    {
     "data": {
      "text/html": [
       "<div>\n",
       "<style scoped>\n",
       "    .dataframe tbody tr th:only-of-type {\n",
       "        vertical-align: middle;\n",
       "    }\n",
       "\n",
       "    .dataframe tbody tr th {\n",
       "        vertical-align: top;\n",
       "    }\n",
       "\n",
       "    .dataframe thead th {\n",
       "        text-align: right;\n",
       "    }\n",
       "</style>\n",
       "<table border=\"1\" class=\"dataframe\">\n",
       "  <thead>\n",
       "    <tr style=\"text-align: right;\">\n",
       "      <th></th>\n",
       "      <th>song</th>\n",
       "      <th>year</th>\n",
       "      <th>artist</th>\n",
       "      <th>genre</th>\n",
       "      <th>lyrics</th>\n",
       "    </tr>\n",
       "  </thead>\n",
       "  <tbody>\n",
       "    <tr>\n",
       "      <th>0</th>\n",
       "      <td>open-my-eyes-that-i-may-see</td>\n",
       "      <td>2014</td>\n",
       "      <td>deadbeat</td>\n",
       "      <td>Electronic</td>\n",
       "      <td>1. Open my eyes, that I may see\\nGlimpses of t...</td>\n",
       "    </tr>\n",
       "    <tr>\n",
       "      <th>1</th>\n",
       "      <td>feeling-blue</td>\n",
       "      <td>2006</td>\n",
       "      <td>finley-quaye</td>\n",
       "      <td>Pop</td>\n",
       "      <td>I'm right at home\\nMust be beneficial yeah\\nI'...</td>\n",
       "    </tr>\n",
       "    <tr>\n",
       "      <th>2</th>\n",
       "      <td>everything-i-wanted</td>\n",
       "      <td>2007</td>\n",
       "      <td>ashley-monroe</td>\n",
       "      <td>Country</td>\n",
       "      <td>-Girl\\nWaking up with you makes me feel alive....</td>\n",
       "    </tr>\n",
       "    <tr>\n",
       "      <th>3</th>\n",
       "      <td>you-re-for-me</td>\n",
       "      <td>2007</td>\n",
       "      <td>buck-owens</td>\n",
       "      <td>Country</td>\n",
       "      <td>Well when I saw you walkin' at avenue then I k...</td>\n",
       "    </tr>\n",
       "    <tr>\n",
       "      <th>4</th>\n",
       "      <td>can-t-help-myself</td>\n",
       "      <td>2007</td>\n",
       "      <td>gary-moore</td>\n",
       "      <td>Rock</td>\n",
       "      <td>In this world of make believe,\\nI will try to ...</td>\n",
       "    </tr>\n",
       "    <tr>\n",
       "      <th>5</th>\n",
       "      <td>throw-it-away</td>\n",
       "      <td>2003</td>\n",
       "      <td>black-lips</td>\n",
       "      <td>Rock</td>\n",
       "      <td>I see you walking around my block\\nyou think y...</td>\n",
       "    </tr>\n",
       "    <tr>\n",
       "      <th>6</th>\n",
       "      <td>dropped</td>\n",
       "      <td>2013</td>\n",
       "      <td>atoms-for-peace</td>\n",
       "      <td>Rock</td>\n",
       "      <td>It slipped\\nOut of my hands\\nWent deep down\\nW...</td>\n",
       "    </tr>\n",
       "    <tr>\n",
       "      <th>7</th>\n",
       "      <td>forever-yours</td>\n",
       "      <td>2007</td>\n",
       "      <td>blank-logic</td>\n",
       "      <td>R&amp;B</td>\n",
       "      <td>intro: instrumental\\nverse 1:\\nThis ride is go...</td>\n",
       "    </tr>\n",
       "    <tr>\n",
       "      <th>8</th>\n",
       "      <td>samadhi</td>\n",
       "      <td>2009</td>\n",
       "      <td>epica</td>\n",
       "      <td>Metal</td>\n",
       "      <td>Solve mentem a molestis\\nMentem ad concretum d...</td>\n",
       "    </tr>\n",
       "    <tr>\n",
       "      <th>9</th>\n",
       "      <td>i-o-i-o</td>\n",
       "      <td>2006</td>\n",
       "      <td>b3</td>\n",
       "      <td>Pop</td>\n",
       "      <td>[Chorus]\\nI E O,I I E I I I I E O,I O, I E O, ...</td>\n",
       "    </tr>\n",
       "  </tbody>\n",
       "</table>\n",
       "</div>"
      ],
      "text/plain": [
       "                          song  year           artist       genre  \\\n",
       "0  open-my-eyes-that-i-may-see  2014         deadbeat  Electronic   \n",
       "1                 feeling-blue  2006     finley-quaye         Pop   \n",
       "2          everything-i-wanted  2007    ashley-monroe     Country   \n",
       "3                you-re-for-me  2007       buck-owens     Country   \n",
       "4            can-t-help-myself  2007       gary-moore        Rock   \n",
       "5                throw-it-away  2003       black-lips        Rock   \n",
       "6                      dropped  2013  atoms-for-peace        Rock   \n",
       "7                forever-yours  2007      blank-logic         R&B   \n",
       "8                      samadhi  2009            epica       Metal   \n",
       "9                      i-o-i-o  2006               b3         Pop   \n",
       "\n",
       "                                              lyrics  \n",
       "0  1. Open my eyes, that I may see\\nGlimpses of t...  \n",
       "1  I'm right at home\\nMust be beneficial yeah\\nI'...  \n",
       "2  -Girl\\nWaking up with you makes me feel alive....  \n",
       "3  Well when I saw you walkin' at avenue then I k...  \n",
       "4  In this world of make believe,\\nI will try to ...  \n",
       "5  I see you walking around my block\\nyou think y...  \n",
       "6  It slipped\\nOut of my hands\\nWent deep down\\nW...  \n",
       "7  intro: instrumental\\nverse 1:\\nThis ride is go...  \n",
       "8  Solve mentem a molestis\\nMentem ad concretum d...  \n",
       "9  [Chorus]\\nI E O,I I E I I I I E O,I O, I E O, ...  "
      ]
     },
     "execution_count": 4,
     "metadata": {},
     "output_type": "execute_result"
    }
   ],
   "source": [
    "df.head(10)"
   ]
  },
  {
   "cell_type": "code",
   "execution_count": 5,
   "metadata": {},
   "outputs": [
    {
     "data": {
      "text/plain": [
       "{'Country',\n",
       " 'Electronic',\n",
       " 'Folk',\n",
       " 'Hip-Hop',\n",
       " 'Indie',\n",
       " 'Jazz',\n",
       " 'Metal',\n",
       " 'Other',\n",
       " 'Pop',\n",
       " 'R&B',\n",
       " 'Rock'}"
      ]
     },
     "execution_count": 5,
     "metadata": {},
     "output_type": "execute_result"
    }
   ],
   "source": [
    "set(df['genre'].values)"
   ]
  },
  {
   "cell_type": "code",
   "execution_count": 6,
   "metadata": {},
   "outputs": [],
   "source": [
    "from sklearn.feature_extraction.text import CountVectorizer, TfidfVectorizer\n",
    "from sklearn.preprocessing import OneHotEncoder\n",
    "from sklearn.model_selection import StratifiedKFold"
   ]
  },
  {
   "cell_type": "code",
   "execution_count": 7,
   "metadata": {},
   "outputs": [],
   "source": [
    "vectorizer = CountVectorizer(min_df=100)"
   ]
  },
  {
   "cell_type": "code",
   "execution_count": 8,
   "metadata": {},
   "outputs": [],
   "source": [
    "result = vectorizer.fit_transform(df['lyrics'].values)"
   ]
  },
  {
   "cell_type": "code",
   "execution_count": 9,
   "metadata": {},
   "outputs": [
    {
     "data": {
      "text/plain": [
       "(242615, 12273)"
      ]
     },
     "execution_count": 9,
     "metadata": {},
     "output_type": "execute_result"
    }
   ],
   "source": [
    "result.shape"
   ]
  },
  {
   "cell_type": "code",
   "execution_count": 10,
   "metadata": {},
   "outputs": [],
   "source": [
    "encoder = OneHotEncoder(handle_unknown='ignore')"
   ]
  },
  {
   "cell_type": "code",
   "execution_count": 11,
   "metadata": {},
   "outputs": [],
   "source": [
    "label = encoder.fit_transform(df[['genre']].values).toarray()"
   ]
  },
  {
   "cell_type": "code",
   "execution_count": 12,
   "metadata": {},
   "outputs": [],
   "source": [
    "from sklearn.naive_bayes import MultinomialNB"
   ]
  },
  {
   "cell_type": "code",
   "execution_count": 13,
   "metadata": {},
   "outputs": [
    {
     "name": "stdout",
     "output_type": "stream",
     "text": [
      "0.37929400127763924\n",
      "0.37921440936443823\n",
      "0.38245780351585845\n",
      "0.3808787766374016\n",
      "0.38689997732846926\n"
     ]
    }
   ],
   "source": [
    "kf = StratifiedKFold(n_splits=5, shuffle=True)\n",
    "for train, test in kf.split(result, df[['genre']].values):\n",
    "    train_X = result[train]\n",
    "    train_y = df['genre'].values[train]\n",
    "    \n",
    "    model = MultinomialNB()\n",
    "    model.fit(train_X, train_y)\n",
    "    \n",
    "    test_X = result[test]\n",
    "    test_y = df['genre'].values[test]\n",
    "    \n",
    "    prediction = model.predict(test_X)\n",
    "    accuracy = 0\n",
    "    for I in range(len(prediction)):\n",
    "        if prediction[I] == test_y[I]:\n",
    "            accuracy += 1\n",
    "    print(accuracy / len(test_y))"
   ]
  },
  {
   "cell_type": "code",
   "execution_count": 81,
   "metadata": {},
   "outputs": [],
   "source": [
    "tfidf_vectorizer = TfidfVectorizer(min_df=100)"
   ]
  },
  {
   "cell_type": "code",
   "execution_count": 82,
   "metadata": {},
   "outputs": [],
   "source": [
    "tfidf_result = tfidf_vectorizer.fit_transform(df['lyrics'].values)"
   ]
  },
  {
   "cell_type": "code",
   "execution_count": 83,
   "metadata": {},
   "outputs": [
    {
     "name": "stdout",
     "output_type": "stream",
     "text": [
      "0.5499824839779917\n",
      "0.5501813535570027\n",
      "0.5491828617356718\n",
      "0.5526565269362351\n",
      "0.5514128485747851\n"
     ]
    }
   ],
   "source": [
    "kf = StratifiedKFold(n_splits=5, shuffle=True)\n",
    "for train, test in kf.split(tfidf_result, df[['genre']].values):\n",
    "    train_X = tfidf_result[train]\n",
    "    train_y = df['genre'].values[train]\n",
    "    \n",
    "    model = MultinomialNB()\n",
    "    model.fit(train_X, train_y)\n",
    "    \n",
    "    test_X = tfidf_result[test]\n",
    "    test_y = df['genre'].values[test]\n",
    "    \n",
    "    prediction = model.predict(test_X)\n",
    "    accuracy = 0\n",
    "    for I in range(len(prediction)):\n",
    "        if prediction[I] == test_y[I]:\n",
    "            accuracy += 1\n",
    "    print(accuracy / len(test_y))"
   ]
  },
  {
   "cell_type": "code",
   "execution_count": 17,
   "metadata": {},
   "outputs": [],
   "source": [
    "title = np.array([\" \".join(I.split(\"-\")) for I in df[\"song\"].values])"
   ]
  },
  {
   "cell_type": "code",
   "execution_count": 18,
   "metadata": {},
   "outputs": [],
   "source": [
    "title_vectorizer = TfidfVectorizer(min_df=5)\n",
    "title_result = tfidf_vectorizer.fit_transform(title)"
   ]
  },
  {
   "cell_type": "code",
   "execution_count": 19,
   "metadata": {},
   "outputs": [
    {
     "name": "stdout",
     "output_type": "stream",
     "text": [
      "0.47136645578749975\n",
      "0.4738067760283571\n",
      "0.47130226902705935\n",
      "0.47483615679485597\n",
      "0.47517467383911455\n"
     ]
    }
   ],
   "source": [
    "kf = StratifiedKFold(n_splits=5, shuffle=True)\n",
    "for train, test in kf.split(result, df[['genre']].values):\n",
    "    train_X = title_result[train]\n",
    "    train_y = df['genre'].values[train]\n",
    "    \n",
    "    model = MultinomialNB()\n",
    "    model.fit(train_X, train_y)\n",
    "    \n",
    "    test_X = title_result[test]\n",
    "    test_y = df['genre'].values[test]\n",
    "    \n",
    "    prediction = model.predict(test_X)\n",
    "    accuracy = 0\n",
    "    for I in range(len(prediction)):\n",
    "        if prediction[I] == test_y[I]:\n",
    "            accuracy += 1\n",
    "    print(accuracy / len(test_y))"
   ]
  },
  {
   "cell_type": "code",
   "execution_count": 20,
   "metadata": {},
   "outputs": [
    {
     "data": {
      "text/plain": [
       "1.1090778018077969e-05"
      ]
     },
     "execution_count": 20,
     "metadata": {},
     "output_type": "execute_result"
    }
   ],
   "source": [
    "1 / 90165"
   ]
  },
  {
   "cell_type": "code",
   "execution_count": 79,
   "metadata": {},
   "outputs": [],
   "source": [
    "W = np.random.normal(size=(12273, 11))\n",
    "b = np.random.normal(size=(11,))"
   ]
  },
  {
   "cell_type": "code",
   "execution_count": 85,
   "metadata": {},
   "outputs": [],
   "source": [
    "def softmax(inputs):\n",
    "    exp_result =np.exp(inputs)\n",
    "    return exp_result / float(max(sum(exp_result), 0.00001))\n",
    "\n",
    "def model(X, W, b):\n",
    "    y_linear = np.dot(X, W) + b\n",
    "    return softmax(y_linear)\n",
    "\n",
    "def calculate_l2(X, b, delta):\n",
    "    l2 = b\n",
    "    l2 += X.sum()\n",
    "    return l2 * delta"
   ]
  },
  {
   "cell_type": "code",
   "execution_count": 35,
   "metadata": {},
   "outputs": [],
   "source": [
    "def sgd_logistic_regression(X, y, W_aksen, b_aksen, lr, delta):\n",
    "    prediction = model(X, W_aksen, b_aksen)\n",
    "    shape = W_aksen[:,0].shape[0]\n",
    "    error = prediction - y\n",
    "    for kelas in range(len(prediction)):\n",
    "        l2 = calculate_l2(W_aksen[:,kelas], b_aksen[kelas], delta)\n",
    "        b_aksen[kelas] -= lr * (error[kelas] + l2)\n",
    "        W_aksen[:, kelas] -= lr * (X * error[kelas] + l2)"
   ]
  },
  {
   "cell_type": "code",
   "execution_count": 86,
   "metadata": {},
   "outputs": [
    {
     "data": {
      "application/vnd.jupyter.widget-view+json": {
       "model_id": "0e221e0e4352489d9f44354c577efd46",
       "version_major": 2,
       "version_minor": 0
      },
      "text/plain": [
       "HBox(children=(IntProgress(value=0, max=10000), HTML(value='')))"
      ]
     },
     "metadata": {},
     "output_type": "display_data"
    }
   ],
   "source": [
    "for row in tqdm_notebook(range(10000)):\n",
    "    sgd_logistic_regression(np.array(tfidf_result[row].todense())[0], label[row], W, b, 0.01, 1 / 20000)"
   ]
  },
  {
   "cell_type": "code",
   "execution_count": 25,
   "metadata": {},
   "outputs": [
    {
     "data": {
      "text/plain": [
       "(242615, 12273)"
      ]
     },
     "execution_count": 25,
     "metadata": {},
     "output_type": "execute_result"
    }
   ],
   "source": [
    "result.shape"
   ]
  },
  {
   "cell_type": "code",
   "execution_count": 99,
   "metadata": {},
   "outputs": [
    {
     "data": {
      "text/plain": [
       "array([-0.44678461,  1.01035552, -1.00354298, ...,  1.11696896,\n",
       "       -0.60314249,  0.6883406 ])"
      ]
     },
     "execution_count": 99,
     "metadata": {},
     "output_type": "execute_result"
    }
   ],
   "source": [
    "W[:,0]"
   ]
  },
  {
   "cell_type": "code",
   "execution_count": 28,
   "metadata": {},
   "outputs": [],
   "source": [
    "W_boom = W.copy()"
   ]
  },
  {
   "cell_type": "code",
   "execution_count": 87,
   "metadata": {},
   "outputs": [
    {
     "data": {
      "text/plain": [
       "12273"
      ]
     },
     "execution_count": 87,
     "metadata": {},
     "output_type": "execute_result"
    }
   ],
   "source": [
    "W.shape[0]"
   ]
  },
  {
   "cell_type": "code",
   "execution_count": 97,
   "metadata": {},
   "outputs": [],
   "source": [
    "removedWord = []\n",
    "for I in range(W.shape[0]):\n",
    "    if np.sum(np.abs(W[I,:]) > 1) < 0:\n",
    "        removedWord.append(I)"
   ]
  },
  {
   "cell_type": "code",
   "execution_count": 98,
   "metadata": {},
   "outputs": [
    {
     "data": {
      "text/plain": [
       "0"
      ]
     },
     "execution_count": 98,
     "metadata": {},
     "output_type": "execute_result"
    }
   ],
   "source": [
    "len(removedWord)"
   ]
  },
  {
   "cell_type": "code",
   "execution_count": null,
   "metadata": {},
   "outputs": [],
   "source": []
  }
 ],
 "metadata": {
  "kernelspec": {
   "display_name": "Python 3",
   "language": "python",
   "name": "python3"
  },
  "language_info": {
   "codemirror_mode": {
    "name": "ipython",
    "version": 3
   },
   "file_extension": ".py",
   "mimetype": "text/x-python",
   "name": "python",
   "nbconvert_exporter": "python",
   "pygments_lexer": "ipython3",
   "version": "3.7.1"
  }
 },
 "nbformat": 4,
 "nbformat_minor": 2
}
