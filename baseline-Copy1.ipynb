{
 "cells": [
  {
   "cell_type": "code",
   "execution_count": 1,
   "metadata": {},
   "outputs": [],
   "source": [
    "import pandas as pd\n",
    "from scipy import sparse\n",
    "import numpy as np\n",
    "import random\n",
    "from tqdm import tqdm_notebook"
   ]
  },
  {
   "cell_type": "code",
   "execution_count": 53,
   "metadata": {},
   "outputs": [
    {
     "name": "stdout",
     "output_type": "stream",
     "text": [
      "WOW\n"
     ]
    }
   ],
   "source": [
    "print(\"WOW\")"
   ]
  },
  {
   "cell_type": "code",
   "execution_count": null,
   "metadata": {},
   "outputs": [],
   "source": [
    "from nltk.sentiment.vader import SentimentIntensityAnalyzer\n",
    "from nltk import tokenize\n",
    "from nltk.stem.snowball import SnowballStemmer\n",
    "import langid"
   ]
  },
  {
   "cell_type": "code",
   "execution_count": null,
   "metadata": {},
   "outputs": [],
   "source": [
    "df = pd.read_csv(\"lyrics.csv\").set_index(\"index\")"
   ]
  },
  {
   "cell_type": "code",
   "execution_count": null,
   "metadata": {},
   "outputs": [],
   "source": [
    "df = df.dropna()\n",
    "df = df.query(\"genre != 'Not Available'\")\n",
    "df = df.sample(frac=1).reset_index(drop=True)"
   ]
  },
  {
   "cell_type": "code",
   "execution_count": null,
   "metadata": {},
   "outputs": [],
   "source": [
    "df.head(10)"
   ]
  },
  {
   "cell_type": "code",
   "execution_count": null,
   "metadata": {},
   "outputs": [],
   "source": [
    "lyricsList = []\n",
    "\n",
    "nilai = df['lyrics'].values\n",
    "language = []\n",
    "for row in tqdm_notebook(nilai):\n",
    "    word = row.replace(\"\\n\",\" \")\n",
    "    lyricsList.append(word)\n",
    "    language.append(langid.classify(word)[0])\n",
    "df['lyrics'] = lyricsList"
   ]
  },
  {
   "cell_type": "code",
   "execution_count": null,
   "metadata": {},
   "outputs": [],
   "source": [
    "df['language'] = language"
   ]
  },
  {
   "cell_type": "code",
   "execution_count": null,
   "metadata": {
    "scrolled": true
   },
   "outputs": [],
   "source": [
    "filtered = df.query(\"language == 'en'\")"
   ]
  },
  {
   "cell_type": "code",
   "execution_count": null,
   "metadata": {
    "scrolled": true
   },
   "outputs": [],
   "source": [
    "filtered"
   ]
  },
  {
   "cell_type": "code",
   "execution_count": null,
   "metadata": {},
   "outputs": [],
   "source": [
    "df.loc[50]['lyrics']"
   ]
  },
  {
   "cell_type": "code",
   "execution_count": null,
   "metadata": {},
   "outputs": [],
   "source": [
    "set(df['genre'].values)"
   ]
  },
  {
   "cell_type": "code",
   "execution_count": null,
   "metadata": {},
   "outputs": [],
   "source": [
    "from sklearn.feature_extraction.text import CountVectorizer, TfidfVectorizer\n",
    "from sklearn.preprocessing import OneHotEncoder\n",
    "from sklearn.model_selection import StratifiedKFold"
   ]
  },
  {
   "cell_type": "code",
   "execution_count": null,
   "metadata": {},
   "outputs": [],
   "source": [
    "vectorizer = CountVectorizer(min_df=25)"
   ]
  },
  {
   "cell_type": "code",
   "execution_count": null,
   "metadata": {},
   "outputs": [],
   "source": [
    "result = vectorizer.fit_transform(df['lyrics'].values)"
   ]
  },
  {
   "cell_type": "code",
   "execution_count": null,
   "metadata": {},
   "outputs": [],
   "source": [
    "result.shape"
   ]
  },
  {
   "cell_type": "code",
   "execution_count": null,
   "metadata": {},
   "outputs": [],
   "source": [
    "encoder = OneHotEncoder(handle_unknown='ignore')"
   ]
  },
  {
   "cell_type": "code",
   "execution_count": null,
   "metadata": {},
   "outputs": [],
   "source": [
    "label = encoder.fit_transform(df[['genre']].values).toarray()"
   ]
  },
  {
   "cell_type": "code",
   "execution_count": null,
   "metadata": {},
   "outputs": [],
   "source": [
    "from sklearn.naive_bayes import MultinomialNB"
   ]
  },
  {
   "cell_type": "code",
   "execution_count": null,
   "metadata": {},
   "outputs": [],
   "source": [
    "kf = StratifiedKFold(n_splits=5, shuffle=True)\n",
    "for train, test in kf.split(result, df[['genre']].values):\n",
    "    train_X = result[train]\n",
    "    train_y = df['genre'].values[train]\n",
    "    \n",
    "    model = MultinomialNB()\n",
    "    model.fit(train_X, train_y)\n",
    "    \n",
    "    test_X = result[test]\n",
    "    test_y = df['genre'].values[test]\n",
    "    \n",
    "    prediction = model.predict(test_X)\n",
    "    accuracy = 0\n",
    "    for I in range(len(prediction)):\n",
    "        if prediction[I] == test_y[I]:\n",
    "            accuracy += 1\n",
    "    print(accuracy / len(test_y))"
   ]
  },
  {
   "cell_type": "code",
   "execution_count": null,
   "metadata": {},
   "outputs": [],
   "source": [
    "tfidf_vectorizer = TfidfVectorizer(min_df=25)"
   ]
  },
  {
   "cell_type": "code",
   "execution_count": null,
   "metadata": {},
   "outputs": [],
   "source": [
    "tfidf_result = tfidf_vectorizer.fit_transform(df['lyrics'].values)"
   ]
  },
  {
   "cell_type": "code",
   "execution_count": null,
   "metadata": {},
   "outputs": [],
   "source": [
    "kf = StratifiedKFold(n_splits=5, shuffle=True)\n",
    "for train, test in kf.split(tfidf_result, df[['genre']].values):\n",
    "    train_X = tfidf_result[train]\n",
    "    train_y = df['genre'].values[train]\n",
    "    \n",
    "    model = MultinomialNB()\n",
    "    model.fit(train_X, train_y)\n",
    "    \n",
    "    test_X = tfidf_result[test]\n",
    "    test_y = df['genre'].values[test]\n",
    "    \n",
    "    prediction = model.predict(test_X)\n",
    "    accuracy = 0\n",
    "    for I in range(len(prediction)):\n",
    "        if prediction[I] == test_y[I]:\n",
    "            accuracy += 1\n",
    "    print(accuracy / len(test_y))"
   ]
  },
  {
   "cell_type": "code",
   "execution_count": null,
   "metadata": {},
   "outputs": [],
   "source": [
    "sum([0.5495909493683928, 0.5490066771082351, 0.5477402468932259, 0.5482255471744776, 0.546919763391661]) / 5"
   ]
  },
  {
   "cell_type": "code",
   "execution_count": null,
   "metadata": {},
   "outputs": [],
   "source": [
    "tfidf_result.shape"
   ]
  },
  {
   "cell_type": "code",
   "execution_count": null,
   "metadata": {},
   "outputs": [],
   "source": [
    "title = np.array([\" \".join(I.split(\"-\")) for I in df[\"song\"].values])"
   ]
  },
  {
   "cell_type": "code",
   "execution_count": null,
   "metadata": {},
   "outputs": [],
   "source": [
    "title_vectorizer = TfidfVectorizer(min_df=25)\n",
    "title_result = tfidf_vectorizer.fit_transform(title)"
   ]
  },
  {
   "cell_type": "code",
   "execution_count": null,
   "metadata": {},
   "outputs": [],
   "source": [
    "kf = StratifiedKFold(n_splits=5, shuffle=True)\n",
    "for train, test in kf.split(result, df[['genre']].values):\n",
    "    train_X = title_result[train]\n",
    "    train_y = df['genre'].values[train]\n",
    "    \n",
    "    model = MultinomialNB()\n",
    "    model.fit(train_X, train_y)\n",
    "    \n",
    "    test_X = title_result[test]\n",
    "    test_y = df['genre'].values[test]\n",
    "    \n",
    "    prediction = model.predict(test_X)\n",
    "    accuracy = 0\n",
    "    for I in range(len(prediction)):\n",
    "        if prediction[I] == test_y[I]:\n",
    "            accuracy += 1\n",
    "    print(accuracy / len(test_y))"
   ]
  },
  {
   "cell_type": "code",
   "execution_count": null,
   "metadata": {},
   "outputs": [],
   "source": [
    "sum([0.4687081418591712, 0.4697469293545462, 0.46728355625167445, 0.46766415234326697, 0.46895030812671323]) / 5"
   ]
  },
  {
   "cell_type": "code",
   "execution_count": null,
   "metadata": {},
   "outputs": [],
   "source": [
    "W = np.random.normal(size=(result.shape[1], 11))\n",
    "b = np.random.normal(size=(11,))"
   ]
  },
  {
   "cell_type": "code",
   "execution_count": null,
   "metadata": {},
   "outputs": [],
   "source": [
    "def softmax(inputs):\n",
    "    exp_result =np.exp(inputs)\n",
    "    return exp_result / float(max(sum(exp_result), 0.00001))\n",
    "\n",
    "def model(X, W, b):\n",
    "    y_linear = np.dot(X, W) + b\n",
    "    return softmax(y_linear)\n",
    "\n",
    "def calculate_l2(X, b, delta):\n",
    "    l2 = b\n",
    "    l2 += X.sum()\n",
    "    return l2 * delta"
   ]
  },
  {
   "cell_type": "code",
   "execution_count": null,
   "metadata": {},
   "outputs": [],
   "source": [
    "def sgd_logistic_regression(X, y, W_aksen, b_aksen, lr, delta):\n",
    "    prediction = model(X, W_aksen, b_aksen)\n",
    "    shape = W_aksen[:,0].shape[0]\n",
    "    error = prediction - y\n",
    "    for kelas in range(len(prediction)):\n",
    "        l2 = calculate_l2(W_aksen[:,kelas], b_aksen[kelas], delta)\n",
    "        b_aksen[kelas] -= lr * (error[kelas] + l2)\n",
    "        W_aksen[:, kelas] -= lr * (X * error[kelas] + l2)"
   ]
  },
  {
   "cell_type": "code",
   "execution_count": null,
   "metadata": {},
   "outputs": [],
   "source": [
    "for row in tqdm_notebook(range(30000)):\n",
    "    sgd_logistic_regression(np.array(tfidf_result[row].todense())[0], label[row], W, b, 0.01, 1 / 20000)"
   ]
  },
  {
   "cell_type": "code",
   "execution_count": null,
   "metadata": {},
   "outputs": [],
   "source": [
    "insertedWord = []\n",
    "for I in range(W.shape[0]):\n",
    "    if np.sum(np.abs(W[I,:]) > 1) > 1:\n",
    "        insertedWord.append(I)"
   ]
  },
  {
   "cell_type": "code",
   "execution_count": null,
   "metadata": {},
   "outputs": [],
   "source": [
    "len(insertedWord)"
   ]
  },
  {
   "cell_type": "code",
   "execution_count": null,
   "metadata": {},
   "outputs": [],
   "source": [
    "tfidf_result_filtered = tfidf_result[:, insertedWord]"
   ]
  },
  {
   "cell_type": "code",
   "execution_count": null,
   "metadata": {},
   "outputs": [],
   "source": [
    "tfidf_result_filtered"
   ]
  },
  {
   "cell_type": "code",
   "execution_count": null,
   "metadata": {},
   "outputs": [],
   "source": [
    "kf = StratifiedKFold(n_splits=5, shuffle=True)\n",
    "for train, test in kf.split(tfidf_result_filtered, df[['genre']].values):\n",
    "    train_X = tfidf_result_filtered[train]\n",
    "    train_y = df['genre'].values[train]\n",
    "    \n",
    "    model = MultinomialNB()\n",
    "    model.fit(train_X, train_y)\n",
    "    \n",
    "    test_X = tfidf_result_filtered[test]\n",
    "    test_y = df['genre'].values[test]\n",
    "    \n",
    "    prediction = model.predict(test_X)\n",
    "    accuracy = 0\n",
    "    for I in range(len(prediction)):\n",
    "        if prediction[I] == test_y[I]:\n",
    "            accuracy += 1\n",
    "    print(accuracy / len(test_y))"
   ]
  },
  {
   "cell_type": "code",
   "execution_count": null,
   "metadata": {},
   "outputs": [],
   "source": [
    "sum([0.5467059575081913, 0.5483266012694749, 0.5464418935350246, 0.5459997526895016, 0.5457861868546343]) / 5"
   ]
  },
  {
   "cell_type": "code",
   "execution_count": null,
   "metadata": {},
   "outputs": [],
   "source": [
    "sid = SentimentIntensityAnalyzer()"
   ]
  },
  {
   "cell_type": "code",
   "execution_count": null,
   "metadata": {},
   "outputs": [],
   "source": [
    "sentimentScore = []\n",
    "for I in tqdm_notebook(lyricsList):\n",
    "    ss = sid.polarity_scores(I)\n",
    "    sentimentScore.append(ss)"
   ]
  },
  {
   "cell_type": "code",
   "execution_count": null,
   "metadata": {},
   "outputs": [],
   "source": [
    "sentimentLabel = []\n",
    "\n",
    "for I in tqdm_notebook(sentimentScore):\n",
    "    if I['compound'] > 0:\n",
    "        sentimentLabel.append([1,0])\n",
    "    else:\n",
    "        sentimentLabel.append([0,1])"
   ]
  },
  {
   "cell_type": "code",
   "execution_count": null,
   "metadata": {},
   "outputs": [],
   "source": [
    "sentimentLabel = np.array(sentimentLabel)"
   ]
  },
  {
   "cell_type": "code",
   "execution_count": null,
   "metadata": {},
   "outputs": [],
   "source": [
    "combined = sparse.hstack((tfidf_result_filtered,sentimentLabel))"
   ]
  },
  {
   "cell_type": "code",
   "execution_count": null,
   "metadata": {},
   "outputs": [],
   "source": [
    "combined = combined.tocsr()"
   ]
  },
  {
   "cell_type": "code",
   "execution_count": null,
   "metadata": {},
   "outputs": [],
   "source": [
    "kf = StratifiedKFold(n_splits=5, shuffle=True)\n",
    "for train, test in kf.split(combined, df[['genre']].values):\n",
    "    train_X = combined[train]\n",
    "    train_y = df['genre'].values[train]\n",
    "    \n",
    "    model = MultinomialNB()\n",
    "    model.fit(train_X, train_y)\n",
    "    \n",
    "    test_X = combined[test]\n",
    "    test_y = df['genre'].values[test]\n",
    "    \n",
    "    prediction = model.predict(test_X)\n",
    "    accuracy = 0\n",
    "    for I in range(len(prediction)):\n",
    "        if prediction[I] == test_y[I]:\n",
    "            accuracy += 1\n",
    "    print(accuracy / len(test_y))"
   ]
  },
  {
   "cell_type": "code",
   "execution_count": null,
   "metadata": {},
   "outputs": [],
   "source": [
    "sum([0.5460877449667195, 0.5506965625257605, 0.5496156461884055, 0.5502040311611228, 0.549475463220594]) / 5"
   ]
  },
  {
   "cell_type": "code",
   "execution_count": null,
   "metadata": {},
   "outputs": [],
   "source": [
    "combined = sparse.hstack((tfidf_result,sentimentLabel))\n",
    "combined = combined.tocsr()"
   ]
  },
  {
   "cell_type": "code",
   "execution_count": null,
   "metadata": {},
   "outputs": [],
   "source": [
    "kf = StratifiedKFold(n_splits=5, shuffle=True)\n",
    "for train, test in kf.split(combined, df[['genre']].values):\n",
    "    train_X = combined[train]\n",
    "    train_y = df['genre'].values[train]\n",
    "    \n",
    "    model = MultinomialNB()\n",
    "    model.fit(train_X, train_y)\n",
    "    \n",
    "    test_X = combined[test]\n",
    "    test_y = df['genre'].values[test]\n",
    "    \n",
    "    prediction = model.predict(test_X)\n",
    "    accuracy = 0\n",
    "    for I in range(len(prediction)):\n",
    "        if prediction[I] == test_y[I]:\n",
    "            accuracy += 1\n",
    "    print(accuracy / len(test_y))"
   ]
  },
  {
   "cell_type": "code",
   "execution_count": null,
   "metadata": {},
   "outputs": [],
   "source": [
    "combined = sparse.hstack((title_result,sentimentLabel))\n",
    "combined = combined.tocsr()"
   ]
  },
  {
   "cell_type": "code",
   "execution_count": null,
   "metadata": {},
   "outputs": [],
   "source": [
    "kf = StratifiedKFold(n_splits=5, shuffle=True)\n",
    "for train, test in kf.split(combined, df[['genre']].values):\n",
    "    train_X = combined[train]\n",
    "    train_y = df['genre'].values[train]\n",
    "    \n",
    "    model = MultinomialNB()\n",
    "    model.fit(train_X, train_y)\n",
    "    \n",
    "    test_X = combined[test]\n",
    "    test_y = df['genre'].values[test]\n",
    "    \n",
    "    prediction = model.predict(test_X)\n",
    "    accuracy = 0\n",
    "    for I in range(len(prediction)):\n",
    "        if prediction[I] == test_y[I]:\n",
    "            accuracy += 1\n",
    "    print(accuracy / len(test_y))"
   ]
  },
  {
   "cell_type": "code",
   "execution_count": null,
   "metadata": {},
   "outputs": [],
   "source": []
  }
 ],
 "metadata": {
  "kernelspec": {
   "display_name": "Python 3",
   "language": "python",
   "name": "python3"
  },
  "language_info": {
   "codemirror_mode": {
    "name": "ipython",
    "version": 3
   },
   "file_extension": ".py",
   "mimetype": "text/x-python",
   "name": "python",
   "nbconvert_exporter": "python",
   "pygments_lexer": "ipython3",
   "version": "3.7.1"
  }
 },
 "nbformat": 4,
 "nbformat_minor": 2
}
