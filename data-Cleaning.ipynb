{
 "cells": [
  {
   "cell_type": "code",
   "execution_count": 4,
   "metadata": {},
   "outputs": [],
   "source": [
    "import pandas as pd\n",
    "from scipy import sparse\n",
    "import numpy as np\n",
    "import random\n",
    "import re \n",
    "from tqdm import tqdm_notebook"
   ]
  },
  {
   "cell_type": "code",
   "execution_count": 5,
   "metadata": {},
   "outputs": [],
   "source": [
    "df = pd.read_csv(\"lyrics.csv\").set_index(\"index\")"
   ]
  },
  {
   "cell_type": "code",
   "execution_count": 6,
   "metadata": {},
   "outputs": [],
   "source": [
    "df = df.dropna()\n",
    "df = df.query(\"genre != 'Not Available'\")\n",
    "df = df.sample(frac=1).reset_index(drop=True)"
   ]
  },
  {
   "cell_type": "code",
   "execution_count": 8,
   "metadata": {},
   "outputs": [
    {
     "data": {
      "application/vnd.jupyter.widget-view+json": {
       "model_id": "5dd5c423e13144a58aa52a2bafd739ca",
       "version_major": 2,
       "version_minor": 0
      },
      "text/plain": [
       "HBox(children=(IntProgress(value=0, max=242615), HTML(value='')))"
      ]
     },
     "metadata": {},
     "output_type": "display_data"
    },
    {
     "name": "stdout",
     "output_type": "stream",
     "text": [
      "\n"
     ]
    }
   ],
   "source": [
    "lyricsList = []\n",
    "\n",
    "nilai = df['lyrics'].values\n",
    "language = []\n",
    "for row in tqdm_notebook(nilai):\n",
    "    word = row.replace(\"\\n\",\" \")\n",
    "    word = re.sub(\"([\\(\\[]).*?([\\)\\]])\", \"\\g<1>\\g<2>\", word)\n",
    "    lyricsList.append(word)\n",
    "df['lyrics'] = lyricsList"
   ]
  },
  {
   "cell_type": "code",
   "execution_count": 9,
   "metadata": {},
   "outputs": [
    {
     "data": {
      "text/html": [
       "<div>\n",
       "<style scoped>\n",
       "    .dataframe tbody tr th:only-of-type {\n",
       "        vertical-align: middle;\n",
       "    }\n",
       "\n",
       "    .dataframe tbody tr th {\n",
       "        vertical-align: top;\n",
       "    }\n",
       "\n",
       "    .dataframe thead th {\n",
       "        text-align: right;\n",
       "    }\n",
       "</style>\n",
       "<table border=\"1\" class=\"dataframe\">\n",
       "  <thead>\n",
       "    <tr style=\"text-align: right;\">\n",
       "      <th></th>\n",
       "      <th>song</th>\n",
       "      <th>year</th>\n",
       "      <th>artist</th>\n",
       "      <th>genre</th>\n",
       "      <th>lyrics</th>\n",
       "    </tr>\n",
       "  </thead>\n",
       "  <tbody>\n",
       "    <tr>\n",
       "      <th>0</th>\n",
       "      <td>only-way</td>\n",
       "      <td>2011</td>\n",
       "      <td>an-early-ending</td>\n",
       "      <td>Metal</td>\n",
       "      <td>Don't tell what you think about this and what ...</td>\n",
       "    </tr>\n",
       "    <tr>\n",
       "      <th>1</th>\n",
       "      <td>every-bone-broken</td>\n",
       "      <td>2006</td>\n",
       "      <td>cannibal-corpse</td>\n",
       "      <td>Metal</td>\n",
       "      <td>Die, shattered you'll die Bones broken in half...</td>\n",
       "    </tr>\n",
       "    <tr>\n",
       "      <th>2</th>\n",
       "      <td>back-on-track-again</td>\n",
       "      <td>2006</td>\n",
       "      <td>apoptygma-berzerk</td>\n",
       "      <td>Pop</td>\n",
       "      <td>I hate to play my part in this twisted odyssey...</td>\n",
       "    </tr>\n",
       "    <tr>\n",
       "      <th>3</th>\n",
       "      <td>feel-the-benefit</td>\n",
       "      <td>2006</td>\n",
       "      <td>10-cc</td>\n",
       "      <td>Rock</td>\n",
       "      <td>You went out on the street without your shoes ...</td>\n",
       "    </tr>\n",
       "    <tr>\n",
       "      <th>4</th>\n",
       "      <td>2-x-4</td>\n",
       "      <td>2006</td>\n",
       "      <td>blind-melon</td>\n",
       "      <td>Rock</td>\n",
       "      <td>I'm talkin' I'm talkin' I'm talkin' to myself ...</td>\n",
       "    </tr>\n",
       "    <tr>\n",
       "      <th>5</th>\n",
       "      <td>breath-on-a-window</td>\n",
       "      <td>2013</td>\n",
       "      <td>alice-in-chains</td>\n",
       "      <td>Rock</td>\n",
       "      <td>I mending fence along the road Barely holding ...</td>\n",
       "    </tr>\n",
       "    <tr>\n",
       "      <th>6</th>\n",
       "      <td>the-blues-is-alright</td>\n",
       "      <td>2014</td>\n",
       "      <td>gary-moore</td>\n",
       "      <td>Rock</td>\n",
       "      <td>Want you to hear me when I say That the blues ...</td>\n",
       "    </tr>\n",
       "    <tr>\n",
       "      <th>7</th>\n",
       "      <td>courage-and-control</td>\n",
       "      <td>2010</td>\n",
       "      <td>brandon-boyd</td>\n",
       "      <td>Rock</td>\n",
       "      <td>The boulevard is bustlin' A vast and wrinkled ...</td>\n",
       "    </tr>\n",
       "    <tr>\n",
       "      <th>8</th>\n",
       "      <td>survivor-remix-extended-version</td>\n",
       "      <td>2002</td>\n",
       "      <td>destiny-s-child</td>\n",
       "      <td>Pop</td>\n",
       "      <td>Now that you're out of my life, I'm so much be...</td>\n",
       "    </tr>\n",
       "    <tr>\n",
       "      <th>9</th>\n",
       "      <td>neda</td>\n",
       "      <td>2010</td>\n",
       "      <td>airborne-toxic-event</td>\n",
       "      <td>Rock</td>\n",
       "      <td>I held my head in my hands, and I trembled. Th...</td>\n",
       "    </tr>\n",
       "  </tbody>\n",
       "</table>\n",
       "</div>"
      ],
      "text/plain": [
       "                              song  year                artist  genre  \\\n",
       "0                         only-way  2011       an-early-ending  Metal   \n",
       "1                every-bone-broken  2006       cannibal-corpse  Metal   \n",
       "2              back-on-track-again  2006     apoptygma-berzerk    Pop   \n",
       "3                 feel-the-benefit  2006                 10-cc   Rock   \n",
       "4                            2-x-4  2006           blind-melon   Rock   \n",
       "5               breath-on-a-window  2013       alice-in-chains   Rock   \n",
       "6             the-blues-is-alright  2014            gary-moore   Rock   \n",
       "7              courage-and-control  2010          brandon-boyd   Rock   \n",
       "8  survivor-remix-extended-version  2002       destiny-s-child    Pop   \n",
       "9                             neda  2010  airborne-toxic-event   Rock   \n",
       "\n",
       "                                              lyrics  \n",
       "0  Don't tell what you think about this and what ...  \n",
       "1  Die, shattered you'll die Bones broken in half...  \n",
       "2  I hate to play my part in this twisted odyssey...  \n",
       "3  You went out on the street without your shoes ...  \n",
       "4  I'm talkin' I'm talkin' I'm talkin' to myself ...  \n",
       "5  I mending fence along the road Barely holding ...  \n",
       "6  Want you to hear me when I say That the blues ...  \n",
       "7  The boulevard is bustlin' A vast and wrinkled ...  \n",
       "8  Now that you're out of my life, I'm so much be...  \n",
       "9  I held my head in my hands, and I trembled. Th...  "
      ]
     },
     "execution_count": 9,
     "metadata": {},
     "output_type": "execute_result"
    }
   ],
   "source": [
    "df.head(10)"
   ]
  },
  {
   "cell_type": "code",
   "execution_count": 10,
   "metadata": {},
   "outputs": [],
   "source": [
    "df.to_csv(\"lyrics_cleaned.csv\")"
   ]
  },
  {
   "cell_type": "code",
   "execution_count": 11,
   "metadata": {},
   "outputs": [
    {
     "ename": "ModuleNotFoundError",
     "evalue": "No module named 'gensim'",
     "output_type": "error",
     "traceback": [
      "\u001b[1;31m---------------------------------------------------------------------------\u001b[0m",
      "\u001b[1;31mModuleNotFoundError\u001b[0m                       Traceback (most recent call last)",
      "\u001b[1;32m<ipython-input-11-e70e92d32c6e>\u001b[0m in \u001b[0;36m<module>\u001b[1;34m\u001b[0m\n\u001b[1;32m----> 1\u001b[1;33m \u001b[1;32mimport\u001b[0m \u001b[0mgensim\u001b[0m\u001b[1;33m\u001b[0m\u001b[1;33m\u001b[0m\u001b[0m\n\u001b[0m",
      "\u001b[1;31mModuleNotFoundError\u001b[0m: No module named 'gensim'"
     ]
    }
   ],
   "source": [
    "import gensim"
   ]
  },
  {
   "cell_type": "code",
   "execution_count": null,
   "metadata": {},
   "outputs": [],
   "source": []
  }
 ],
 "metadata": {
  "kernelspec": {
   "display_name": "Python 3",
   "language": "python",
   "name": "python3"
  },
  "language_info": {
   "codemirror_mode": {
    "name": "ipython",
    "version": 3
   },
   "file_extension": ".py",
   "mimetype": "text/x-python",
   "name": "python",
   "nbconvert_exporter": "python",
   "pygments_lexer": "ipython3",
   "version": "3.7.1"
  }
 },
 "nbformat": 4,
 "nbformat_minor": 2
}
